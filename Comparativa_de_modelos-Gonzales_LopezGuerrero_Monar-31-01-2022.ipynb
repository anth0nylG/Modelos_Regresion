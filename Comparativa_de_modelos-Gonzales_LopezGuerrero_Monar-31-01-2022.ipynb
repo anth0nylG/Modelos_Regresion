{
 "cells": [
  {
   "cell_type": "markdown",
   "metadata": {},
   "source": [
    "### Modelo de Regresión de Lasso"
   ]
  },
  {
   "cell_type": "markdown",
   "metadata": {},
   "source": [
    "##### Paso 1: importar los paquetes necesarios\n",
    "##### Primero, importaremos los paquetes necesarios para realizar la regresión de lasso en Python:"
   ]
  },
  {
   "cell_type": "code",
   "execution_count": 1,
   "metadata": {},
   "outputs": [],
   "source": [
    "import numpy as np\n",
    "import pandas as pd\n",
    "from sklearn.linear_model import Ridge, Lasso\n",
    "from numpy import absolute\n",
    "from numpy import mean\n",
    "from numpy import std\n",
    "from sklearn.model_selection import RepeatedKFold\n",
    "from sklearn.metrics import mean_squared_error,r2_score\n",
    "from sklearn.model_selection import train_test_split, cross_val_score\n",
    "from sklearn import model_selection\n",
    "import matplotlib.pyplot as plt\n",
    "from sklearn.linear_model import RidgeCV, LassoCV"
   ]
  },
  {
   "cell_type": "markdown",
   "metadata": {},
   "source": [
    "##### Paso 2: cargar los datos\n",
    "##### Para este modelo, se usará un conjunto de datos llamado recolectados del videojuego FIFA 17, que contiene información sobre jugadores de fútbol."
   ]
  },
  {
   "cell_type": "code",
   "execution_count": 2,
   "metadata": {},
   "outputs": [
    {
     "data": {
      "text/html": [
       "<div>\n",
       "<style scoped>\n",
       "    .dataframe tbody tr th:only-of-type {\n",
       "        vertical-align: middle;\n",
       "    }\n",
       "\n",
       "    .dataframe tbody tr th {\n",
       "        vertical-align: top;\n",
       "    }\n",
       "\n",
       "    .dataframe thead th {\n",
       "        text-align: right;\n",
       "    }\n",
       "</style>\n",
       "<table border=\"1\" class=\"dataframe\">\n",
       "  <thead>\n",
       "    <tr style=\"text-align: right;\">\n",
       "      <th></th>\n",
       "      <th>short_name</th>\n",
       "      <th>overall</th>\n",
       "      <th>pace</th>\n",
       "      <th>shooting</th>\n",
       "      <th>passing</th>\n",
       "      <th>dribbling</th>\n",
       "      <th>defending</th>\n",
       "      <th>physic</th>\n",
       "    </tr>\n",
       "  </thead>\n",
       "  <tbody>\n",
       "    <tr>\n",
       "      <th>0</th>\n",
       "      <td>Cristiano Ronaldo</td>\n",
       "      <td>94</td>\n",
       "      <td>92.0</td>\n",
       "      <td>92.0</td>\n",
       "      <td>81.0</td>\n",
       "      <td>91.0</td>\n",
       "      <td>33.0</td>\n",
       "      <td>80.0</td>\n",
       "    </tr>\n",
       "    <tr>\n",
       "      <th>1</th>\n",
       "      <td>L. Messi</td>\n",
       "      <td>93</td>\n",
       "      <td>89.0</td>\n",
       "      <td>90.0</td>\n",
       "      <td>86.0</td>\n",
       "      <td>96.0</td>\n",
       "      <td>26.0</td>\n",
       "      <td>61.0</td>\n",
       "    </tr>\n",
       "    <tr>\n",
       "      <th>2</th>\n",
       "      <td>Neymar</td>\n",
       "      <td>92</td>\n",
       "      <td>91.0</td>\n",
       "      <td>84.0</td>\n",
       "      <td>78.0</td>\n",
       "      <td>95.0</td>\n",
       "      <td>30.0</td>\n",
       "      <td>56.0</td>\n",
       "    </tr>\n",
       "    <tr>\n",
       "      <th>3</th>\n",
       "      <td>M. Neuer</td>\n",
       "      <td>92</td>\n",
       "      <td>0.0</td>\n",
       "      <td>0.0</td>\n",
       "      <td>0.0</td>\n",
       "      <td>0.0</td>\n",
       "      <td>0.0</td>\n",
       "      <td>0.0</td>\n",
       "    </tr>\n",
       "    <tr>\n",
       "      <th>4</th>\n",
       "      <td>L. Suárez</td>\n",
       "      <td>92</td>\n",
       "      <td>82.0</td>\n",
       "      <td>90.0</td>\n",
       "      <td>79.0</td>\n",
       "      <td>87.0</td>\n",
       "      <td>42.0</td>\n",
       "      <td>79.0</td>\n",
       "    </tr>\n",
       "  </tbody>\n",
       "</table>\n",
       "</div>"
      ],
      "text/plain": [
       "          short_name  overall  pace shooting passing dribbling defending  \\\n",
       "0  Cristiano Ronaldo       94  92.0     92.0    81.0      91.0      33.0   \n",
       "1           L. Messi       93  89.0     90.0    86.0      96.0      26.0   \n",
       "2             Neymar       92  91.0     84.0    78.0      95.0      30.0   \n",
       "3           M. Neuer       92   0.0      0.0     0.0       0.0       0.0   \n",
       "4          L. Suárez       92  82.0     90.0    79.0      87.0      42.0   \n",
       "\n",
       "  physic  \n",
       "0   80.0  \n",
       "1   61.0  \n",
       "2   56.0  \n",
       "3    0.0  \n",
       "4   79.0  "
      ]
     },
     "execution_count": 2,
     "metadata": {},
     "output_type": "execute_result"
    }
   ],
   "source": [
    "# Leer en los datos \n",
    "data = pd.read_csv('players_17.csv')\n",
    "\n",
    "# Seleccionar el subconjunto de datos\n",
    "dataset = data[[\"short_name\", \"overall\", \"pace\", \"shooting\", \"passing\", \"dribbling\", \"defending\", \"physic\"]]\n",
    "\n",
    "# Reemplazamos el valor nan por 0\n",
    "dataset = dataset.replace(np.nan, \"0.0\")\n",
    "dataset.head()"
   ]
  },
  {
   "cell_type": "markdown",
   "metadata": {},
   "source": [
    "##### Paso 3: ajuste el modelo de regresión de lazo\n",
    "##### A continuación, se usará la función LassoCV() de sklearn para ajustar el modelo de regresión de lasso y se usará la función RepeatedKFold() para realizar k-veces la validación cruzada para encontrar el valor alfa óptimo para usar para el término de penalización.\n",
    "##### Nota: El término «alfa» se usa en lugar de «lambda» en Python."
   ]
  },
  {
   "cell_type": "code",
   "execution_count": 3,
   "metadata": {},
   "outputs": [],
   "source": [
    "# definir variables de predicción y respuesta\n",
    "X = dataset[[\"pace\", \"shooting\", \"passing\", \"dribbling\", \"defending\", \"physic\"]]\n",
    "y = dataset[\"overall\"]"
   ]
  },
  {
   "cell_type": "code",
   "execution_count": 4,
   "metadata": {},
   "outputs": [
    {
     "name": "stdout",
     "output_type": "stream",
     "text": [
      "Factor de Pearson: 4.837 (0.085)\n"
     ]
    }
   ],
   "source": [
    "# definir el modelo\n",
    "model = Lasso(alpha=1.0)\n",
    "# definir el método para evaluar el modelo\n",
    "cv = RepeatedKFold(n_splits=10, n_repeats=3, random_state=1)\n",
    "# evaluar el modelo\n",
    "scores = cross_val_score(model, X, y, scoring='neg_mean_absolute_error', cv=cv, n_jobs=-1)\n",
    "# forzar los scores a valores positivos\n",
    "scores = absolute(scores)\n",
    "print('Factor de Pearson: %.3f (%.3f)' % (mean(scores), std(scores)))"
   ]
  },
  {
   "cell_type": "code",
   "execution_count": 5,
   "metadata": {},
   "outputs": [],
   "source": [
    "# entrenamos el modelo\n",
    "X = dataset[[\"pace\", \"shooting\", \"passing\", \"dribbling\", \"defending\", \"physic\"]]\n",
    "y = dataset[\"overall\"]\n",
    "X_train, X_test, y_train, y_test = train_test_split(X, y, test_size=0.25, random_state=42)"
   ]
  },
  {
   "cell_type": "code",
   "execution_count": 6,
   "metadata": {},
   "outputs": [],
   "source": [
    "# aplicamos el modelo de Lasso\n",
    "lasso_model = Lasso().fit(X_train,y_train)"
   ]
  },
  {
   "cell_type": "code",
   "execution_count": 7,
   "metadata": {},
   "outputs": [
    {
     "data": {
      "text/plain": [
       "61.30397477733538"
      ]
     },
     "execution_count": 7,
     "metadata": {},
     "output_type": "execute_result"
    }
   ],
   "source": [
    "# sacamos los interceptores\n",
    "lasso_model.intercept_"
   ]
  },
  {
   "cell_type": "code",
   "execution_count": 8,
   "metadata": {},
   "outputs": [
    {
     "data": {
      "text/plain": [
       "array([-0.20327229,  0.10884158,  0.12149823,  0.07328179,  0.05836948,\n",
       "       -0.01018474])"
      ]
     },
     "execution_count": 8,
     "metadata": {},
     "output_type": "execute_result"
    }
   ],
   "source": [
    "# sacamos los coeficientes\n",
    "lasso_model.coef_"
   ]
  },
  {
   "cell_type": "code",
   "execution_count": 9,
   "metadata": {},
   "outputs": [],
   "source": [
    "# Coefficients for different lambda values.\n",
    "lasso = Lasso()\n",
    "coefs = []\n",
    "alphas = np.random.randint(0,1000,100)\n",
    "\n",
    "# 10**np.linspace(10,-2,100)*0.5 -- It can be used instead of alphas and observed.\n",
    "\n",
    "for a in alphas:\n",
    "    lasso.set_params(alpha = a)\n",
    "    lasso.fit(X_train,y_train)\n",
    "    coefs.append(lasso.coef_)"
   ]
  },
  {
   "cell_type": "code",
   "execution_count": 10,
   "metadata": {},
   "outputs": [
    {
     "data": {
      "image/png": "[encoded data removed]",
      "text/plain": [
       "<Figure size 432x288 with 1 Axes>"
      ]
     },
     "metadata": {
      "needs_background": "light"
     },
     "output_type": "display_data"
    }
   ],
   "source": [
    "# graficamos los coeficientes\n",
    "ax = plt.gca()\n",
    "ax.plot(alphas, coefs)\n",
    "ax.set_xscale(\"log\")"
   ]
  },
  {
   "cell_type": "code",
   "execution_count": 11,
   "metadata": {},
   "outputs": [
    {
     "data": {
      "text/plain": [
       "array([67.11561668, 60.40988173, 68.35606066, 69.73582567, 63.62594122])"
      ]
     },
     "execution_count": 11,
     "metadata": {},
     "output_type": "execute_result"
    }
   ],
   "source": [
    "# generamos la prediccion para los 5 primeras columnas con los datos de entrenamiento\n",
    "lasso_model.predict(X_train)[:5]"
   ]
  },
  {
   "cell_type": "code",
   "execution_count": 12,
   "metadata": {},
   "outputs": [
    {
     "data": {
      "text/plain": [
       "array([61.30397478, 70.42149799, 68.98163407, 62.81063525, 69.27583434])"
      ]
     },
     "execution_count": 12,
     "metadata": {},
     "output_type": "execute_result"
    }
   ],
   "source": [
    "# generamos la prediccion para los 5 primeras columnas con los datos de test\n",
    "lasso_model.predict(X_test)[:5]"
   ]
  },
  {
   "cell_type": "code",
   "execution_count": 13,
   "metadata": {},
   "outputs": [
    {
     "data": {
      "text/plain": [
       "6.140673461151962"
      ]
     },
     "execution_count": 13,
     "metadata": {},
     "output_type": "execute_result"
    }
   ],
   "source": [
    "# generamos la predicción para y\n",
    "y_pred = lasso_model.predict(X_test)\n",
    "np.sqrt(mean_squared_error(y_test,y_pred))"
   ]
  },
  {
   "cell_type": "code",
   "execution_count": 14,
   "metadata": {},
   "outputs": [
    {
     "data": {
      "text/plain": [
       "0.2576449691230086"
      ]
     },
     "execution_count": 14,
     "metadata": {},
     "output_type": "execute_result"
    }
   ],
   "source": [
    "# generamos el error\n",
    "r2_score(y_test, y_pred)"
   ]
  },
  {
   "cell_type": "code",
   "execution_count": 15,
   "metadata": {},
   "outputs": [
    {
     "name": "stdout",
     "output_type": "stream",
     "text": [
      "Predicted: 70.293\n"
     ]
    }
   ],
   "source": [
    "# predecimos para datos \n",
    "X = dataset[[\"pace\", \"shooting\", \"passing\", \"dribbling\", \"defending\", \"physic\"]]\n",
    "y = dataset[\"overall\"]\n",
    "# definimos el modelo\n",
    "model = Lasso(alpha=1.0)\n",
    "# entrenamos el modelo\n",
    "model.fit(X, y)\n",
    "# definimos los datos\n",
    "row = [92.0, 92.0, 81.0, 91.0, 33.0, 80.0]\n",
    "# hacemos la predicción\n",
    "yhat = model.predict([row])\n",
    "# predecimos para el modelo\n",
    "print('Predicted: %.3f' % yhat)"
   ]
  },
  {
   "cell_type": "markdown",
   "metadata": {},
   "source": [
    "### Modelo de Regresión de Cresta"
   ]
  },
  {
   "cell_type": "markdown",
   "metadata": {},
   "source": [
    "##### Paso 1: importar los paquetes necesarios\n",
    "##### Primero, importaremos los paquetes necesarios para realizar la regresión de cresta en Python:"
   ]
  },
  {
   "cell_type": "code",
   "execution_count": 16,
   "metadata": {},
   "outputs": [],
   "source": [
    "import numpy as np\n",
    "import pandas as pd\n",
    "from numpy import absolute\n",
    "from numpy import mean\n",
    "from numpy import std\n",
    "from sklearn.linear_model import Ridge, Lasso\n",
    "from sklearn.metrics import mean_squared_error,r2_score\n",
    "from sklearn.model_selection import train_test_split, cross_val_score\n",
    "from sklearn.model_selection import RepeatedKFold\n",
    "from sklearn import model_selection\n",
    "import matplotlib.pyplot as plt\n",
    "from sklearn.linear_model import RidgeCV, LassoCV"
   ]
  },
  {
   "cell_type": "markdown",
   "metadata": {},
   "source": [
    "##### Paso 2: cargar los datos\n",
    "##### Para este modelo, se usará un conjunto de datos llamado recolectados del videojuego FIFA 17, que contiene información sobre jugadores de fútbol."
   ]
  },
  {
   "cell_type": "code",
   "execution_count": 17,
   "metadata": {},
   "outputs": [
    {
     "data": {
      "text/html": [
       "<div>\n",
       "<style scoped>\n",
       "    .dataframe tbody tr th:only-of-type {\n",
       "        vertical-align: middle;\n",
       "    }\n",
       "\n",
       "    .dataframe tbody tr th {\n",
       "        vertical-align: top;\n",
       "    }\n",
       "\n",
       "    .dataframe thead th {\n",
       "        text-align: right;\n",
       "    }\n",
       "</style>\n",
       "<table border=\"1\" class=\"dataframe\">\n",
       "  <thead>\n",
       "    <tr style=\"text-align: right;\">\n",
       "      <th></th>\n",
       "      <th>short_name</th>\n",
       "      <th>overall</th>\n",
       "      <th>pace</th>\n",
       "      <th>shooting</th>\n",
       "      <th>passing</th>\n",
       "      <th>dribbling</th>\n",
       "      <th>defending</th>\n",
       "      <th>physic</th>\n",
       "    </tr>\n",
       "  </thead>\n",
       "  <tbody>\n",
       "    <tr>\n",
       "      <th>0</th>\n",
       "      <td>Cristiano Ronaldo</td>\n",
       "      <td>94</td>\n",
       "      <td>92.0</td>\n",
       "      <td>92.0</td>\n",
       "      <td>81.0</td>\n",
       "      <td>91.0</td>\n",
       "      <td>33.0</td>\n",
       "      <td>80.0</td>\n",
       "    </tr>\n",
       "    <tr>\n",
       "      <th>1</th>\n",
       "      <td>L. Messi</td>\n",
       "      <td>93</td>\n",
       "      <td>89.0</td>\n",
       "      <td>90.0</td>\n",
       "      <td>86.0</td>\n",
       "      <td>96.0</td>\n",
       "      <td>26.0</td>\n",
       "      <td>61.0</td>\n",
       "    </tr>\n",
       "    <tr>\n",
       "      <th>2</th>\n",
       "      <td>Neymar</td>\n",
       "      <td>92</td>\n",
       "      <td>91.0</td>\n",
       "      <td>84.0</td>\n",
       "      <td>78.0</td>\n",
       "      <td>95.0</td>\n",
       "      <td>30.0</td>\n",
       "      <td>56.0</td>\n",
       "    </tr>\n",
       "    <tr>\n",
       "      <th>3</th>\n",
       "      <td>M. Neuer</td>\n",
       "      <td>92</td>\n",
       "      <td>0.0</td>\n",
       "      <td>0.0</td>\n",
       "      <td>0.0</td>\n",
       "      <td>0.0</td>\n",
       "      <td>0.0</td>\n",
       "      <td>0.0</td>\n",
       "    </tr>\n",
       "    <tr>\n",
       "      <th>4</th>\n",
       "      <td>L. Suárez</td>\n",
       "      <td>92</td>\n",
       "      <td>82.0</td>\n",
       "      <td>90.0</td>\n",
       "      <td>79.0</td>\n",
       "      <td>87.0</td>\n",
       "      <td>42.0</td>\n",
       "      <td>79.0</td>\n",
       "    </tr>\n",
       "  </tbody>\n",
       "</table>\n",
       "</div>"
      ],
      "text/plain": [
       "          short_name  overall  pace shooting passing dribbling defending  \\\n",
       "0  Cristiano Ronaldo       94  92.0     92.0    81.0      91.0      33.0   \n",
       "1           L. Messi       93  89.0     90.0    86.0      96.0      26.0   \n",
       "2             Neymar       92  91.0     84.0    78.0      95.0      30.0   \n",
       "3           M. Neuer       92   0.0      0.0     0.0       0.0       0.0   \n",
       "4          L. Suárez       92  82.0     90.0    79.0      87.0      42.0   \n",
       "\n",
       "  physic  \n",
       "0   80.0  \n",
       "1   61.0  \n",
       "2   56.0  \n",
       "3    0.0  \n",
       "4   79.0  "
      ]
     },
     "execution_count": 17,
     "metadata": {},
     "output_type": "execute_result"
    }
   ],
   "source": [
    "# Leer en los datos \n",
    "data = pd.read_csv('players_17.csv')\n",
    "\n",
    "# Seleccionar el subconjunto de datos\n",
    "dataset = data[[\"short_name\", \"overall\", \"pace\", \"shooting\", \"passing\", \"dribbling\", \"defending\", \"physic\"]]\n",
    "\n",
    "# Reemplazamos el valor nan por 0\n",
    "dataset = dataset.replace(np.nan, \"0.0\")\n",
    "dataset.head()"
   ]
  },
  {
   "cell_type": "code",
   "execution_count": 18,
   "metadata": {},
   "outputs": [],
   "source": [
    "# definir variables de predicción y respuesta\n",
    "X = dataset[[\"pace\", \"shooting\", \"passing\", \"dribbling\", \"defending\", \"physic\"]]\n",
    "y = dataset[\"overall\"]"
   ]
  },
  {
   "cell_type": "code",
   "execution_count": 19,
   "metadata": {},
   "outputs": [
    {
     "name": "stdout",
     "output_type": "stream",
     "text": [
      "Factor de Pearson: 4.838 (0.086)\n"
     ]
    }
   ],
   "source": [
    "# definimos el modelo\n",
    "model = Ridge(alpha=1.0)\n",
    "# definimos el modelo del método de evaluacion \n",
    "cv = RepeatedKFold(n_splits=10, n_repeats=3, random_state=1)\n",
    "# evaluamos el modelo\n",
    "scores = cross_val_score(model, X, y, scoring='neg_mean_absolute_error', cv=cv, n_jobs=-1)\n",
    "# forzamos los scores a positivos\n",
    "scores = absolute(scores)\n",
    "print('Factor de Pearson: %.3f (%.3f)' % (mean(scores), std(scores)))"
   ]
  },
  {
   "cell_type": "code",
   "execution_count": 20,
   "metadata": {},
   "outputs": [
    {
     "data": {
      "text/plain": [
       "Ridge()"
      ]
     },
     "execution_count": 20,
     "metadata": {},
     "output_type": "execute_result"
    }
   ],
   "source": [
    "# entrenamos el modelo\n",
    "model.fit(X, y)"
   ]
  },
  {
   "cell_type": "code",
   "execution_count": 21,
   "metadata": {},
   "outputs": [],
   "source": [
    "# definimos los datos\n",
    "row = [92.0, 92.0, 81.0, 91.0, 33.0, 80.0]\n",
    "yhat = model.predict([row])"
   ]
  },
  {
   "cell_type": "code",
   "execution_count": 22,
   "metadata": {},
   "outputs": [
    {
     "data": {
      "text/plain": [
       "6.140673461151962"
      ]
     },
     "execution_count": 22,
     "metadata": {},
     "output_type": "execute_result"
    }
   ],
   "source": [
    "# generamos la predicción para y\n",
    "y_pred = lasso_model.predict(X_test)\n",
    "np.sqrt(mean_squared_error(y_test,y_pred))"
   ]
  },
  {
   "cell_type": "code",
   "execution_count": 23,
   "metadata": {},
   "outputs": [
    {
     "data": {
      "text/plain": [
       "0.2576449691230086"
      ]
     },
     "execution_count": 23,
     "metadata": {},
     "output_type": "execute_result"
    }
   ],
   "source": [
    "# generamos el error\n",
    "r2_score(y_test, y_pred)"
   ]
  },
  {
   "cell_type": "code",
   "execution_count": 24,
   "metadata": {},
   "outputs": [
    {
     "name": "stdout",
     "output_type": "stream",
     "text": [
      "Predicted: 70.193\n"
     ]
    }
   ],
   "source": [
    "# predecimos para el modelo\n",
    "print('Predicted: %.3f' % yhat)"
   ]
  },
  {
   "cell_type": "markdown",
   "metadata": {},
   "source": [
    "### Modelo de Regresión Descenso de gradiente"
   ]
  },
  {
   "cell_type": "markdown",
   "metadata": {},
   "source": [
    "##### Paso 1: importar los paquetes necesarios"
   ]
  },
  {
   "cell_type": "code",
   "execution_count": 25,
   "metadata": {},
   "outputs": [],
   "source": [
    "import pandas as pd\n",
    "import numpy as np\n",
    "from sklearn.model_selection import train_test_split\n",
    "from sklearn import metrics\n",
    "from sklearn.metrics import r2_score, mean_squared_error\n",
    "from scipy import stats\n",
    "import matplotlib.pyplot as plt\n",
    "from matplotlib import style\n",
    "style.use('fivethirtyeight')\n",
    "from sklearn.linear_model import SGDRegressor"
   ]
  },
  {
   "cell_type": "code",
   "execution_count": 26,
   "metadata": {},
   "outputs": [
    {
     "data": {
      "text/html": [
       "<div>\n",
       "<style scoped>\n",
       "    .dataframe tbody tr th:only-of-type {\n",
       "        vertical-align: middle;\n",
       "    }\n",
       "\n",
       "    .dataframe tbody tr th {\n",
       "        vertical-align: top;\n",
       "    }\n",
       "\n",
       "    .dataframe thead th {\n",
       "        text-align: right;\n",
       "    }\n",
       "</style>\n",
       "<table border=\"1\" class=\"dataframe\">\n",
       "  <thead>\n",
       "    <tr style=\"text-align: right;\">\n",
       "      <th></th>\n",
       "      <th>short_name</th>\n",
       "      <th>overall</th>\n",
       "      <th>pace</th>\n",
       "      <th>shooting</th>\n",
       "      <th>passing</th>\n",
       "      <th>dribbling</th>\n",
       "      <th>defending</th>\n",
       "      <th>physic</th>\n",
       "    </tr>\n",
       "  </thead>\n",
       "  <tbody>\n",
       "    <tr>\n",
       "      <th>0</th>\n",
       "      <td>Cristiano Ronaldo</td>\n",
       "      <td>94</td>\n",
       "      <td>92.0</td>\n",
       "      <td>92.0</td>\n",
       "      <td>81.0</td>\n",
       "      <td>91.0</td>\n",
       "      <td>33.0</td>\n",
       "      <td>80.0</td>\n",
       "    </tr>\n",
       "    <tr>\n",
       "      <th>1</th>\n",
       "      <td>L. Messi</td>\n",
       "      <td>93</td>\n",
       "      <td>89.0</td>\n",
       "      <td>90.0</td>\n",
       "      <td>86.0</td>\n",
       "      <td>96.0</td>\n",
       "      <td>26.0</td>\n",
       "      <td>61.0</td>\n",
       "    </tr>\n",
       "    <tr>\n",
       "      <th>2</th>\n",
       "      <td>Neymar</td>\n",
       "      <td>92</td>\n",
       "      <td>91.0</td>\n",
       "      <td>84.0</td>\n",
       "      <td>78.0</td>\n",
       "      <td>95.0</td>\n",
       "      <td>30.0</td>\n",
       "      <td>56.0</td>\n",
       "    </tr>\n",
       "    <tr>\n",
       "      <th>3</th>\n",
       "      <td>M. Neuer</td>\n",
       "      <td>92</td>\n",
       "      <td>0.0</td>\n",
       "      <td>0.0</td>\n",
       "      <td>0.0</td>\n",
       "      <td>0.0</td>\n",
       "      <td>0.0</td>\n",
       "      <td>0.0</td>\n",
       "    </tr>\n",
       "    <tr>\n",
       "      <th>4</th>\n",
       "      <td>L. Suárez</td>\n",
       "      <td>92</td>\n",
       "      <td>82.0</td>\n",
       "      <td>90.0</td>\n",
       "      <td>79.0</td>\n",
       "      <td>87.0</td>\n",
       "      <td>42.0</td>\n",
       "      <td>79.0</td>\n",
       "    </tr>\n",
       "  </tbody>\n",
       "</table>\n",
       "</div>"
      ],
      "text/plain": [
       "          short_name  overall  pace  shooting  passing  dribbling  defending  \\\n",
       "0  Cristiano Ronaldo       94  92.0      92.0     81.0       91.0       33.0   \n",
       "1           L. Messi       93  89.0      90.0     86.0       96.0       26.0   \n",
       "2             Neymar       92  91.0      84.0     78.0       95.0       30.0   \n",
       "3           M. Neuer       92   0.0       0.0      0.0        0.0        0.0   \n",
       "4          L. Suárez       92  82.0      90.0     79.0       87.0       42.0   \n",
       "\n",
       "   physic  \n",
       "0    80.0  \n",
       "1    61.0  \n",
       "2    56.0  \n",
       "3     0.0  \n",
       "4    79.0  "
      ]
     },
     "execution_count": 26,
     "metadata": {},
     "output_type": "execute_result"
    }
   ],
   "source": [
    "# Leer en los datos \n",
    "data = pd.read_csv('players_17.csv')\n",
    "\n",
    "# Seleccionar el subconjunto de datos\n",
    "dataset = data[[\"short_name\", \"overall\", \"pace\", \"shooting\", \"passing\", \"dribbling\", \"defending\", \"physic\"]]\n",
    "\n",
    "# Reemplazar los valores nan por 0\n",
    "dataset = dataset.replace(np.nan, 0)\n",
    "dataset.head()"
   ]
  },
  {
   "cell_type": "code",
   "execution_count": 27,
   "metadata": {},
   "outputs": [],
   "source": [
    "# definir variables de predicción y respuesta\n",
    "x = dataset[[\"pace\", \"shooting\", \"passing\", \"dribbling\", \"defending\", \"physic\"]]\n",
    "y = dataset[\"overall\"]"
   ]
  },
  {
   "cell_type": "code",
   "execution_count": 28,
   "metadata": {},
   "outputs": [],
   "source": [
    "# Separar los datos de entrenamiento y prueba\n",
    "x_train, x_test, y_train, y_test = train_test_split(x, y, test_size=0.7,random_state=42) # 70% entrenamiento y 30% prueba"
   ]
  },
  {
   "cell_type": "code",
   "execution_count": 29,
   "metadata": {},
   "outputs": [
    {
     "data": {
      "text/plain": [
       "SGDRegressor()"
      ]
     },
     "execution_count": 29,
     "metadata": {},
     "output_type": "execute_result"
    }
   ],
   "source": [
    "# inicializacion del modelo \n",
    "sdg = SGDRegressor()\n",
    "# Entrenar el modelo con los datos x_train y y_train\n",
    "sdg.fit(x_train, y_train)"
   ]
  },
  {
   "cell_type": "code",
   "execution_count": 30,
   "metadata": {},
   "outputs": [],
   "source": [
    "# Valor de prediccion\n",
    "y_pred = sdg.predict(x_test)"
   ]
  },
  {
   "cell_type": "code",
   "execution_count": 31,
   "metadata": {},
   "outputs": [
    {
     "name": "stdout",
     "output_type": "stream",
     "text": [
      "Valor R^2: -290704953059783038992384.000\n"
     ]
    }
   ],
   "source": [
    "# r2_score\n",
    "r = r2_score(y_test, y_pred)\n",
    "print(\"Valor R^2: %.3f\"%r)"
   ]
  },
  {
   "cell_type": "code",
   "execution_count": 32,
   "metadata": {},
   "outputs": [
    {
     "name": "stdout",
     "output_type": "stream",
     "text": [
      "Valor RME: 14865194144166678787784704.000\n"
     ]
    }
   ],
   "source": [
    "# mean squared error\n",
    "m = mean_squared_error(y_test, y_pred)\n",
    "print(\"Valor RME: %.3f\"%m)"
   ]
  },
  {
   "cell_type": "code",
   "execution_count": 33,
   "metadata": {},
   "outputs": [
    {
     "name": "stdout",
     "output_type": "stream",
     "text": [
      "Valor P_value: 0.000\n"
     ]
    }
   ],
   "source": [
    "# p_value\n",
    "r, p = stats.ttest_ind(y_test, y_pred)\n",
    "print(\"Valor P_value: %.3f\"%p)"
   ]
  },
  {
   "cell_type": "code",
   "execution_count": 34,
   "metadata": {},
   "outputs": [
    {
     "name": "stdout",
     "output_type": "stream",
     "text": [
      "Factor de Pearson: -0.30\n"
     ]
    }
   ],
   "source": [
    "# Pearson\n",
    "r, p = stats.pearsonr(y_test, y_pred)\n",
    "print(\"Factor de Pearson: %.2f\"%r)"
   ]
  },
  {
   "cell_type": "code",
   "execution_count": 35,
   "metadata": {},
   "outputs": [
    {
     "name": "stdout",
     "output_type": "stream",
     "text": [
      "Precision del modelo:  -2.9070495305978304e+23\n"
     ]
    }
   ],
   "source": [
    "# Presicion del modelo\n",
    "print(\"Precision del modelo: \", sdg.score(x_test, y_test))"
   ]
  },
  {
   "cell_type": "markdown",
   "metadata": {},
   "source": [
    "### Modelo de Regresión Random Forest"
   ]
  },
  {
   "cell_type": "markdown",
   "metadata": {},
   "source": [
    "##### Paso 1: importar los paquetes necesarios"
   ]
  },
  {
   "cell_type": "code",
   "execution_count": 36,
   "metadata": {},
   "outputs": [],
   "source": [
    "import pandas as pd\n",
    "import numpy as np\n",
    "from sklearn.model_selection import train_test_split\n",
    "from sklearn import metrics\n",
    "from sklearn.metrics import r2_score, mean_squared_error\n",
    "from scipy import stats\n",
    "from scipy.stats import pearsonr\n",
    "from sklearn.ensemble import RandomForestClassifier"
   ]
  },
  {
   "cell_type": "code",
   "execution_count": 37,
   "metadata": {},
   "outputs": [
    {
     "data": {
      "text/html": [
       "<div>\n",
       "<style scoped>\n",
       "    .dataframe tbody tr th:only-of-type {\n",
       "        vertical-align: middle;\n",
       "    }\n",
       "\n",
       "    .dataframe tbody tr th {\n",
       "        vertical-align: top;\n",
       "    }\n",
       "\n",
       "    .dataframe thead th {\n",
       "        text-align: right;\n",
       "    }\n",
       "</style>\n",
       "<table border=\"1\" class=\"dataframe\">\n",
       "  <thead>\n",
       "    <tr style=\"text-align: right;\">\n",
       "      <th></th>\n",
       "      <th>short_name</th>\n",
       "      <th>overall</th>\n",
       "      <th>pace</th>\n",
       "      <th>shooting</th>\n",
       "      <th>passing</th>\n",
       "      <th>dribbling</th>\n",
       "      <th>defending</th>\n",
       "      <th>physic</th>\n",
       "    </tr>\n",
       "  </thead>\n",
       "  <tbody>\n",
       "    <tr>\n",
       "      <th>0</th>\n",
       "      <td>Cristiano Ronaldo</td>\n",
       "      <td>94</td>\n",
       "      <td>92.0</td>\n",
       "      <td>92.0</td>\n",
       "      <td>81.0</td>\n",
       "      <td>91.0</td>\n",
       "      <td>33.0</td>\n",
       "      <td>80.0</td>\n",
       "    </tr>\n",
       "    <tr>\n",
       "      <th>1</th>\n",
       "      <td>L. Messi</td>\n",
       "      <td>93</td>\n",
       "      <td>89.0</td>\n",
       "      <td>90.0</td>\n",
       "      <td>86.0</td>\n",
       "      <td>96.0</td>\n",
       "      <td>26.0</td>\n",
       "      <td>61.0</td>\n",
       "    </tr>\n",
       "    <tr>\n",
       "      <th>2</th>\n",
       "      <td>Neymar</td>\n",
       "      <td>92</td>\n",
       "      <td>91.0</td>\n",
       "      <td>84.0</td>\n",
       "      <td>78.0</td>\n",
       "      <td>95.0</td>\n",
       "      <td>30.0</td>\n",
       "      <td>56.0</td>\n",
       "    </tr>\n",
       "    <tr>\n",
       "      <th>3</th>\n",
       "      <td>M. Neuer</td>\n",
       "      <td>92</td>\n",
       "      <td>0.0</td>\n",
       "      <td>0.0</td>\n",
       "      <td>0.0</td>\n",
       "      <td>0.0</td>\n",
       "      <td>0.0</td>\n",
       "      <td>0.0</td>\n",
       "    </tr>\n",
       "    <tr>\n",
       "      <th>4</th>\n",
       "      <td>L. Suárez</td>\n",
       "      <td>92</td>\n",
       "      <td>82.0</td>\n",
       "      <td>90.0</td>\n",
       "      <td>79.0</td>\n",
       "      <td>87.0</td>\n",
       "      <td>42.0</td>\n",
       "      <td>79.0</td>\n",
       "    </tr>\n",
       "  </tbody>\n",
       "</table>\n",
       "</div>"
      ],
      "text/plain": [
       "          short_name  overall  pace  shooting  passing  dribbling  defending  \\\n",
       "0  Cristiano Ronaldo       94  92.0      92.0     81.0       91.0       33.0   \n",
       "1           L. Messi       93  89.0      90.0     86.0       96.0       26.0   \n",
       "2             Neymar       92  91.0      84.0     78.0       95.0       30.0   \n",
       "3           M. Neuer       92   0.0       0.0      0.0        0.0        0.0   \n",
       "4          L. Suárez       92  82.0      90.0     79.0       87.0       42.0   \n",
       "\n",
       "   physic  \n",
       "0    80.0  \n",
       "1    61.0  \n",
       "2    56.0  \n",
       "3     0.0  \n",
       "4    79.0  "
      ]
     },
     "execution_count": 37,
     "metadata": {},
     "output_type": "execute_result"
    }
   ],
   "source": [
    "# Leer en los datos \n",
    "data = pd.read_csv('players_17.csv')\n",
    "\n",
    "# Seleccionar el subconjunto de datos\n",
    "dataset = data[[\"short_name\", \"overall\", \"pace\", \"shooting\", \"passing\", \"dribbling\", \"defending\", \"physic\"]]\n",
    "\n",
    "# Reemplazar los valores nan por 0\n",
    "dataset = dataset.replace(np.nan, 0)\n",
    "dataset.head()"
   ]
  },
  {
   "cell_type": "code",
   "execution_count": 38,
   "metadata": {},
   "outputs": [
    {
     "data": {
      "text/html": [
       "<div>\n",
       "<style scoped>\n",
       "    .dataframe tbody tr th:only-of-type {\n",
       "        vertical-align: middle;\n",
       "    }\n",
       "\n",
       "    .dataframe tbody tr th {\n",
       "        vertical-align: top;\n",
       "    }\n",
       "\n",
       "    .dataframe thead th {\n",
       "        text-align: right;\n",
       "    }\n",
       "</style>\n",
       "<table border=\"1\" class=\"dataframe\">\n",
       "  <thead>\n",
       "    <tr style=\"text-align: right;\">\n",
       "      <th></th>\n",
       "      <th>overall</th>\n",
       "      <th>pace</th>\n",
       "      <th>shooting</th>\n",
       "      <th>passing</th>\n",
       "      <th>dribbling</th>\n",
       "      <th>defending</th>\n",
       "      <th>physic</th>\n",
       "    </tr>\n",
       "  </thead>\n",
       "  <tbody>\n",
       "    <tr>\n",
       "      <th>overall</th>\n",
       "      <td>1.000000</td>\n",
       "      <td>0.154351</td>\n",
       "      <td>0.344575</td>\n",
       "      <td>0.376797</td>\n",
       "      <td>0.320635</td>\n",
       "      <td>0.261255</td>\n",
       "      <td>0.274340</td>\n",
       "    </tr>\n",
       "    <tr>\n",
       "      <th>pace</th>\n",
       "      <td>0.154351</td>\n",
       "      <td>1.000000</td>\n",
       "      <td>0.797763</td>\n",
       "      <td>0.844260</td>\n",
       "      <td>0.912130</td>\n",
       "      <td>0.538601</td>\n",
       "      <td>0.793932</td>\n",
       "    </tr>\n",
       "    <tr>\n",
       "      <th>shooting</th>\n",
       "      <td>0.344575</td>\n",
       "      <td>0.797763</td>\n",
       "      <td>1.000000</td>\n",
       "      <td>0.876042</td>\n",
       "      <td>0.912516</td>\n",
       "      <td>0.342928</td>\n",
       "      <td>0.714540</td>\n",
       "    </tr>\n",
       "    <tr>\n",
       "      <th>passing</th>\n",
       "      <td>0.376797</td>\n",
       "      <td>0.844260</td>\n",
       "      <td>0.876042</td>\n",
       "      <td>1.000000</td>\n",
       "      <td>0.955574</td>\n",
       "      <td>0.642659</td>\n",
       "      <td>0.821911</td>\n",
       "    </tr>\n",
       "    <tr>\n",
       "      <th>dribbling</th>\n",
       "      <td>0.320635</td>\n",
       "      <td>0.912130</td>\n",
       "      <td>0.912516</td>\n",
       "      <td>0.955574</td>\n",
       "      <td>1.000000</td>\n",
       "      <td>0.543288</td>\n",
       "      <td>0.803232</td>\n",
       "    </tr>\n",
       "    <tr>\n",
       "      <th>defending</th>\n",
       "      <td>0.261255</td>\n",
       "      <td>0.538601</td>\n",
       "      <td>0.342928</td>\n",
       "      <td>0.642659</td>\n",
       "      <td>0.543288</td>\n",
       "      <td>1.000000</td>\n",
       "      <td>0.797541</td>\n",
       "    </tr>\n",
       "    <tr>\n",
       "      <th>physic</th>\n",
       "      <td>0.274340</td>\n",
       "      <td>0.793932</td>\n",
       "      <td>0.714540</td>\n",
       "      <td>0.821911</td>\n",
       "      <td>0.803232</td>\n",
       "      <td>0.797541</td>\n",
       "      <td>1.000000</td>\n",
       "    </tr>\n",
       "  </tbody>\n",
       "</table>\n",
       "</div>"
      ],
      "text/plain": [
       "            overall      pace  shooting   passing  dribbling  defending  \\\n",
       "overall    1.000000  0.154351  0.344575  0.376797   0.320635   0.261255   \n",
       "pace       0.154351  1.000000  0.797763  0.844260   0.912130   0.538601   \n",
       "shooting   0.344575  0.797763  1.000000  0.876042   0.912516   0.342928   \n",
       "passing    0.376797  0.844260  0.876042  1.000000   0.955574   0.642659   \n",
       "dribbling  0.320635  0.912130  0.912516  0.955574   1.000000   0.543288   \n",
       "defending  0.261255  0.538601  0.342928  0.642659   0.543288   1.000000   \n",
       "physic     0.274340  0.793932  0.714540  0.821911   0.803232   0.797541   \n",
       "\n",
       "             physic  \n",
       "overall    0.274340  \n",
       "pace       0.793932  \n",
       "shooting   0.714540  \n",
       "passing    0.821911  \n",
       "dribbling  0.803232  \n",
       "defending  0.797541  \n",
       "physic     1.000000  "
      ]
     },
     "execution_count": 38,
     "metadata": {},
     "output_type": "execute_result"
    }
   ],
   "source": [
    "# Visualizamos la correlacion de los datos\n",
    "dataset.corr()"
   ]
  },
  {
   "cell_type": "code",
   "execution_count": 39,
   "metadata": {},
   "outputs": [],
   "source": [
    "# definir variables de predicción y respuesta\n",
    "x = dataset[[\"pace\", \"shooting\", \"passing\", \"dribbling\", \"defending\", \"physic\"]]\n",
    "y = dataset[\"overall\"]"
   ]
  },
  {
   "cell_type": "code",
   "execution_count": 40,
   "id": "f69cc154-8e23-4b64-91d4-ec8d186046c0",
   "metadata": {},
   "outputs": [],
   "source": [
    "# Separar los datos de entrenamiento y prueba\n",
    "x_train, x_test, y_train, y_test = train_test_split(x, y, test_size=0.3,random_state=42) # 70% entrenamiento y 30% prueba"
   ]
  },
  {
   "cell_type": "code",
   "execution_count": 41,
   "metadata": {},
   "outputs": [
    {
     "data": {
      "text/plain": [
       "RandomForestClassifier()"
      ]
     },
     "execution_count": 41,
     "metadata": {},
     "output_type": "execute_result"
    }
   ],
   "source": [
    "# Iniciar el modelo\n",
    "forest = RandomForestClassifier()\n",
    "forest.fit(x_train, y_train)"
   ]
  },
  {
   "cell_type": "code",
   "execution_count": 42,
   "metadata": {},
   "outputs": [],
   "source": [
    "# Generar una prediccion\n",
    "y_pred = forest.predict(x_test)"
   ]
  },
  {
   "cell_type": "code",
   "execution_count": 43,
   "metadata": {},
   "outputs": [
    {
     "name": "stdout",
     "output_type": "stream",
     "text": [
      "Valor R^2: 0.814\n"
     ]
    }
   ],
   "source": [
    "# r2_score\n",
    "r = r2_score(y_test, y_pred)\n",
    "print(\"Valor R^2: %.3f\"%r)"
   ]
  },
  {
   "cell_type": "code",
   "execution_count": 44,
   "metadata": {},
   "outputs": [
    {
     "name": "stdout",
     "output_type": "stream",
     "text": [
      "Valor RME: 9.466\n"
     ]
    }
   ],
   "source": [
    "# mean squared error\n",
    "m = mean_squared_error(y_test, y_pred)\n",
    "print(\"Valor RME: %.3f\"%m)"
   ]
  },
  {
   "cell_type": "code",
   "execution_count": 45,
   "metadata": {},
   "outputs": [
    {
     "name": "stdout",
     "output_type": "stream",
     "text": [
      "Valor P_value: 0.929\n"
     ]
    }
   ],
   "source": [
    "# p_value\n",
    "r, p = stats.ttest_ind(y_test, y_pred)\n",
    "print(\"Valor P_value: %.3f\"%p)"
   ]
  },
  {
   "cell_type": "code",
   "execution_count": 46,
   "metadata": {},
   "outputs": [
    {
     "name": "stdout",
     "output_type": "stream",
     "text": [
      "Factor de Pearson: 0.902\n"
     ]
    }
   ],
   "source": [
    "# Pearson\n",
    "r, p = stats.pearsonr(y_test, y_pred)\n",
    "print(\"Factor de Pearson: %.3f\"%r)"
   ]
  },
  {
   "cell_type": "code",
   "execution_count": 47,
   "metadata": {},
   "outputs": [
    {
     "name": "stdout",
     "output_type": "stream",
     "text": [
      "Precision del modelo:  0.23182441700960219\n"
     ]
    }
   ],
   "source": [
    "# Presicion del modelo\n",
    "print(\"Precision del modelo: \", forest.score(x_test, y_test))"
   ]
  },
  {
   "cell_type": "markdown",
   "metadata": {},
   "source": [
    "### Modelo de Regresión Support Vector Machine"
   ]
  },
  {
   "cell_type": "markdown",
   "metadata": {},
   "source": [
    "##### Paso 1: importar los paquetes necesarios"
   ]
  },
  {
   "cell_type": "code",
   "execution_count": 48,
   "metadata": {},
   "outputs": [],
   "source": [
    "import pandas as pd\n",
    "import numpy as np\n",
    "from sklearn.model_selection import train_test_split\n",
    "from sklearn import metrics\n",
    "from sklearn.metrics import r2_score, mean_squared_error\n",
    "from scipy import stats\n",
    "from scipy.stats import pearsonr\n",
    "import warnings\n",
    "warnings.filterwarnings('ignore')\n",
    "from sklearn.svm import SVC"
   ]
  },
  {
   "cell_type": "code",
   "execution_count": 49,
   "metadata": {},
   "outputs": [
    {
     "data": {
      "text/html": [
       "<div>\n",
       "<style scoped>\n",
       "    .dataframe tbody tr th:only-of-type {\n",
       "        vertical-align: middle;\n",
       "    }\n",
       "\n",
       "    .dataframe tbody tr th {\n",
       "        vertical-align: top;\n",
       "    }\n",
       "\n",
       "    .dataframe thead th {\n",
       "        text-align: right;\n",
       "    }\n",
       "</style>\n",
       "<table border=\"1\" class=\"dataframe\">\n",
       "  <thead>\n",
       "    <tr style=\"text-align: right;\">\n",
       "      <th></th>\n",
       "      <th>short_name</th>\n",
       "      <th>overall</th>\n",
       "      <th>pace</th>\n",
       "      <th>shooting</th>\n",
       "      <th>passing</th>\n",
       "      <th>dribbling</th>\n",
       "      <th>defending</th>\n",
       "      <th>physic</th>\n",
       "    </tr>\n",
       "  </thead>\n",
       "  <tbody>\n",
       "    <tr>\n",
       "      <th>0</th>\n",
       "      <td>Cristiano Ronaldo</td>\n",
       "      <td>94</td>\n",
       "      <td>92.0</td>\n",
       "      <td>92.0</td>\n",
       "      <td>81.0</td>\n",
       "      <td>91.0</td>\n",
       "      <td>33.0</td>\n",
       "      <td>80.0</td>\n",
       "    </tr>\n",
       "    <tr>\n",
       "      <th>1</th>\n",
       "      <td>L. Messi</td>\n",
       "      <td>93</td>\n",
       "      <td>89.0</td>\n",
       "      <td>90.0</td>\n",
       "      <td>86.0</td>\n",
       "      <td>96.0</td>\n",
       "      <td>26.0</td>\n",
       "      <td>61.0</td>\n",
       "    </tr>\n",
       "    <tr>\n",
       "      <th>2</th>\n",
       "      <td>Neymar</td>\n",
       "      <td>92</td>\n",
       "      <td>91.0</td>\n",
       "      <td>84.0</td>\n",
       "      <td>78.0</td>\n",
       "      <td>95.0</td>\n",
       "      <td>30.0</td>\n",
       "      <td>56.0</td>\n",
       "    </tr>\n",
       "    <tr>\n",
       "      <th>3</th>\n",
       "      <td>M. Neuer</td>\n",
       "      <td>92</td>\n",
       "      <td>0.0</td>\n",
       "      <td>0.0</td>\n",
       "      <td>0.0</td>\n",
       "      <td>0.0</td>\n",
       "      <td>0.0</td>\n",
       "      <td>0.0</td>\n",
       "    </tr>\n",
       "    <tr>\n",
       "      <th>4</th>\n",
       "      <td>L. Suárez</td>\n",
       "      <td>92</td>\n",
       "      <td>82.0</td>\n",
       "      <td>90.0</td>\n",
       "      <td>79.0</td>\n",
       "      <td>87.0</td>\n",
       "      <td>42.0</td>\n",
       "      <td>79.0</td>\n",
       "    </tr>\n",
       "  </tbody>\n",
       "</table>\n",
       "</div>"
      ],
      "text/plain": [
       "          short_name  overall  pace  shooting  passing  dribbling  defending  \\\n",
       "0  Cristiano Ronaldo       94  92.0      92.0     81.0       91.0       33.0   \n",
       "1           L. Messi       93  89.0      90.0     86.0       96.0       26.0   \n",
       "2             Neymar       92  91.0      84.0     78.0       95.0       30.0   \n",
       "3           M. Neuer       92   0.0       0.0      0.0        0.0        0.0   \n",
       "4          L. Suárez       92  82.0      90.0     79.0       87.0       42.0   \n",
       "\n",
       "   physic  \n",
       "0    80.0  \n",
       "1    61.0  \n",
       "2    56.0  \n",
       "3     0.0  \n",
       "4    79.0  "
      ]
     },
     "execution_count": 49,
     "metadata": {},
     "output_type": "execute_result"
    }
   ],
   "source": [
    "# Leer en los datos \n",
    "data = pd.read_csv('players_17.csv')\n",
    "\n",
    "# Seleccionar el subconjunto de datos\n",
    "dataset = data[[\"short_name\", \"overall\", \"pace\", \"shooting\", \"passing\", \"dribbling\", \"defending\", \"physic\"]]\n",
    "\n",
    "# Reemplazar los valores nan por 0\n",
    "dataset = dataset.replace(np.nan, 0)\n",
    "dataset.head()"
   ]
  },
  {
   "cell_type": "code",
   "execution_count": 50,
   "metadata": {},
   "outputs": [
    {
     "data": {
      "text/html": [
       "<div>\n",
       "<style scoped>\n",
       "    .dataframe tbody tr th:only-of-type {\n",
       "        vertical-align: middle;\n",
       "    }\n",
       "\n",
       "    .dataframe tbody tr th {\n",
       "        vertical-align: top;\n",
       "    }\n",
       "\n",
       "    .dataframe thead th {\n",
       "        text-align: right;\n",
       "    }\n",
       "</style>\n",
       "<table border=\"1\" class=\"dataframe\">\n",
       "  <thead>\n",
       "    <tr style=\"text-align: right;\">\n",
       "      <th></th>\n",
       "      <th>overall</th>\n",
       "      <th>pace</th>\n",
       "      <th>shooting</th>\n",
       "      <th>passing</th>\n",
       "      <th>dribbling</th>\n",
       "      <th>defending</th>\n",
       "      <th>physic</th>\n",
       "    </tr>\n",
       "  </thead>\n",
       "  <tbody>\n",
       "    <tr>\n",
       "      <th>overall</th>\n",
       "      <td>1.000000</td>\n",
       "      <td>0.154351</td>\n",
       "      <td>0.344575</td>\n",
       "      <td>0.376797</td>\n",
       "      <td>0.320635</td>\n",
       "      <td>0.261255</td>\n",
       "      <td>0.274340</td>\n",
       "    </tr>\n",
       "    <tr>\n",
       "      <th>pace</th>\n",
       "      <td>0.154351</td>\n",
       "      <td>1.000000</td>\n",
       "      <td>0.797763</td>\n",
       "      <td>0.844260</td>\n",
       "      <td>0.912130</td>\n",
       "      <td>0.538601</td>\n",
       "      <td>0.793932</td>\n",
       "    </tr>\n",
       "    <tr>\n",
       "      <th>shooting</th>\n",
       "      <td>0.344575</td>\n",
       "      <td>0.797763</td>\n",
       "      <td>1.000000</td>\n",
       "      <td>0.876042</td>\n",
       "      <td>0.912516</td>\n",
       "      <td>0.342928</td>\n",
       "      <td>0.714540</td>\n",
       "    </tr>\n",
       "    <tr>\n",
       "      <th>passing</th>\n",
       "      <td>0.376797</td>\n",
       "      <td>0.844260</td>\n",
       "      <td>0.876042</td>\n",
       "      <td>1.000000</td>\n",
       "      <td>0.955574</td>\n",
       "      <td>0.642659</td>\n",
       "      <td>0.821911</td>\n",
       "    </tr>\n",
       "    <tr>\n",
       "      <th>dribbling</th>\n",
       "      <td>0.320635</td>\n",
       "      <td>0.912130</td>\n",
       "      <td>0.912516</td>\n",
       "      <td>0.955574</td>\n",
       "      <td>1.000000</td>\n",
       "      <td>0.543288</td>\n",
       "      <td>0.803232</td>\n",
       "    </tr>\n",
       "    <tr>\n",
       "      <th>defending</th>\n",
       "      <td>0.261255</td>\n",
       "      <td>0.538601</td>\n",
       "      <td>0.342928</td>\n",
       "      <td>0.642659</td>\n",
       "      <td>0.543288</td>\n",
       "      <td>1.000000</td>\n",
       "      <td>0.797541</td>\n",
       "    </tr>\n",
       "    <tr>\n",
       "      <th>physic</th>\n",
       "      <td>0.274340</td>\n",
       "      <td>0.793932</td>\n",
       "      <td>0.714540</td>\n",
       "      <td>0.821911</td>\n",
       "      <td>0.803232</td>\n",
       "      <td>0.797541</td>\n",
       "      <td>1.000000</td>\n",
       "    </tr>\n",
       "  </tbody>\n",
       "</table>\n",
       "</div>"
      ],
      "text/plain": [
       "            overall      pace  shooting   passing  dribbling  defending  \\\n",
       "overall    1.000000  0.154351  0.344575  0.376797   0.320635   0.261255   \n",
       "pace       0.154351  1.000000  0.797763  0.844260   0.912130   0.538601   \n",
       "shooting   0.344575  0.797763  1.000000  0.876042   0.912516   0.342928   \n",
       "passing    0.376797  0.844260  0.876042  1.000000   0.955574   0.642659   \n",
       "dribbling  0.320635  0.912130  0.912516  0.955574   1.000000   0.543288   \n",
       "defending  0.261255  0.538601  0.342928  0.642659   0.543288   1.000000   \n",
       "physic     0.274340  0.793932  0.714540  0.821911   0.803232   0.797541   \n",
       "\n",
       "             physic  \n",
       "overall    0.274340  \n",
       "pace       0.793932  \n",
       "shooting   0.714540  \n",
       "passing    0.821911  \n",
       "dribbling  0.803232  \n",
       "defending  0.797541  \n",
       "physic     1.000000  "
      ]
     },
     "execution_count": 50,
     "metadata": {},
     "output_type": "execute_result"
    }
   ],
   "source": [
    "# Visualizamos la correlacion de los datos\n",
    "dataset.corr()"
   ]
  },
  {
   "cell_type": "code",
   "execution_count": 51,
   "metadata": {},
   "outputs": [],
   "source": [
    "# definir variables de predicción y respuesta\n",
    "x = dataset[[\"pace\", \"shooting\", \"passing\", \"dribbling\", \"defending\", \"physic\"]]\n",
    "y = dataset[\"overall\"]"
   ]
  },
  {
   "cell_type": "code",
   "execution_count": 52,
   "metadata": {},
   "outputs": [],
   "source": [
    "# Separar los datos de entrenamiento y prueba\n",
    "x_train, x_test, y_train, y_test = train_test_split(x, y, test_size=0.3,random_state=42) # 70% entrenamiento y 30% prueba"
   ]
  },
  {
   "cell_type": "code",
   "execution_count": 53,
   "metadata": {},
   "outputs": [
    {
     "data": {
      "text/plain": [
       "SVC(C=10)"
      ]
     },
     "execution_count": 53,
     "metadata": {},
     "output_type": "execute_result"
    }
   ],
   "source": [
    "# Iniciar el modelo\n",
    "vec = SVC(C=10)\n",
    "vec.fit(x_train, y_train)"
   ]
  },
  {
   "cell_type": "code",
   "execution_count": 54,
   "metadata": {},
   "outputs": [],
   "source": [
    "# Generar una prediccion\n",
    "y_pred = vec.predict(x_test)"
   ]
  },
  {
   "cell_type": "code",
   "execution_count": 55,
   "metadata": {},
   "outputs": [
    {
     "name": "stdout",
     "output_type": "stream",
     "text": [
      "Valor R^2: 0.815\n"
     ]
    }
   ],
   "source": [
    "# r2_score\n",
    "r = r2_score(y_test, y_pred)\n",
    "print(\"Valor R^2: %.3f\"%r)"
   ]
  },
  {
   "cell_type": "code",
   "execution_count": 56,
   "metadata": {},
   "outputs": [
    {
     "name": "stdout",
     "output_type": "stream",
     "text": [
      "Valor RME: 9.377\n"
     ]
    }
   ],
   "source": [
    "# mean squared error\n",
    "m = mean_squared_error(y_test, y_pred)\n",
    "print(\"Valor RME: %.3f\"%m)"
   ]
  },
  {
   "cell_type": "code",
   "execution_count": 57,
   "metadata": {},
   "outputs": [
    {
     "name": "stdout",
     "output_type": "stream",
     "text": [
      "Valor P_value: 0.976\n"
     ]
    }
   ],
   "source": [
    "# p_value\n",
    "r, p = stats.ttest_ind(y_test, y_pred)\n",
    "print(\"Valor P_value: %.3f\"%p)"
   ]
  },
  {
   "cell_type": "code",
   "execution_count": 58,
   "metadata": {},
   "outputs": [
    {
     "name": "stdout",
     "output_type": "stream",
     "text": [
      "Factor de Pearson: 0.903\n"
     ]
    }
   ],
   "source": [
    "# Pearson\n",
    "r, p = stats.pearsonr(y_test, y_pred)\n",
    "print(\"Factor de Pearson: %.3f\"%r)"
   ]
  },
  {
   "cell_type": "code",
   "execution_count": 59,
   "metadata": {},
   "outputs": [
    {
     "name": "stdout",
     "output_type": "stream",
     "text": [
      "Precision del modelo:  0.22868900646678425\n"
     ]
    }
   ],
   "source": [
    "# Presicion del modelo\n",
    "print(\"Precision del modelo: \", vec.score(x_test, y_test))"
   ]
  },
  {
   "cell_type": "markdown",
   "metadata": {},
   "source": [
    "### Modelo de Regresión Gradient Boosting Classifier"
   ]
  },
  {
   "cell_type": "markdown",
   "metadata": {},
   "source": [
    "##### Paso 1: importar los paquetes necesarios\n",
    "##### Primero, importaremos los paquetes necesarios:"
   ]
  },
  {
   "cell_type": "code",
   "execution_count": 60,
   "metadata": {},
   "outputs": [],
   "source": [
    "import pandas as pd\n",
    "import numpy as np\n",
    "from sklearn.model_selection import train_test_split\n",
    "from sklearn import metrics\n",
    "from sklearn.metrics import r2_score, mean_squared_error\n",
    "from scipy import stats\n",
    "from scipy.stats import pearsonr\n",
    "import warnings\n",
    "warnings.filterwarnings('ignore')\n",
    "from sklearn.ensemble import GradientBoostingClassifier"
   ]
  },
  {
   "cell_type": "code",
   "execution_count": 61,
   "metadata": {},
   "outputs": [
    {
     "data": {
      "text/html": [
       "<div>\n",
       "<style scoped>\n",
       "    .dataframe tbody tr th:only-of-type {\n",
       "        vertical-align: middle;\n",
       "    }\n",
       "\n",
       "    .dataframe tbody tr th {\n",
       "        vertical-align: top;\n",
       "    }\n",
       "\n",
       "    .dataframe thead th {\n",
       "        text-align: right;\n",
       "    }\n",
       "</style>\n",
       "<table border=\"1\" class=\"dataframe\">\n",
       "  <thead>\n",
       "    <tr style=\"text-align: right;\">\n",
       "      <th></th>\n",
       "      <th>short_name</th>\n",
       "      <th>overall</th>\n",
       "      <th>pace</th>\n",
       "      <th>shooting</th>\n",
       "      <th>passing</th>\n",
       "      <th>dribbling</th>\n",
       "      <th>defending</th>\n",
       "      <th>physic</th>\n",
       "    </tr>\n",
       "  </thead>\n",
       "  <tbody>\n",
       "    <tr>\n",
       "      <th>0</th>\n",
       "      <td>Cristiano Ronaldo</td>\n",
       "      <td>94</td>\n",
       "      <td>92.0</td>\n",
       "      <td>92.0</td>\n",
       "      <td>81.0</td>\n",
       "      <td>91.0</td>\n",
       "      <td>33.0</td>\n",
       "      <td>80.0</td>\n",
       "    </tr>\n",
       "    <tr>\n",
       "      <th>1</th>\n",
       "      <td>L. Messi</td>\n",
       "      <td>93</td>\n",
       "      <td>89.0</td>\n",
       "      <td>90.0</td>\n",
       "      <td>86.0</td>\n",
       "      <td>96.0</td>\n",
       "      <td>26.0</td>\n",
       "      <td>61.0</td>\n",
       "    </tr>\n",
       "    <tr>\n",
       "      <th>2</th>\n",
       "      <td>Neymar</td>\n",
       "      <td>92</td>\n",
       "      <td>91.0</td>\n",
       "      <td>84.0</td>\n",
       "      <td>78.0</td>\n",
       "      <td>95.0</td>\n",
       "      <td>30.0</td>\n",
       "      <td>56.0</td>\n",
       "    </tr>\n",
       "    <tr>\n",
       "      <th>3</th>\n",
       "      <td>M. Neuer</td>\n",
       "      <td>92</td>\n",
       "      <td>0.0</td>\n",
       "      <td>0.0</td>\n",
       "      <td>0.0</td>\n",
       "      <td>0.0</td>\n",
       "      <td>0.0</td>\n",
       "      <td>0.0</td>\n",
       "    </tr>\n",
       "    <tr>\n",
       "      <th>4</th>\n",
       "      <td>L. Suárez</td>\n",
       "      <td>92</td>\n",
       "      <td>82.0</td>\n",
       "      <td>90.0</td>\n",
       "      <td>79.0</td>\n",
       "      <td>87.0</td>\n",
       "      <td>42.0</td>\n",
       "      <td>79.0</td>\n",
       "    </tr>\n",
       "  </tbody>\n",
       "</table>\n",
       "</div>"
      ],
      "text/plain": [
       "          short_name  overall  pace  shooting  passing  dribbling  defending  \\\n",
       "0  Cristiano Ronaldo       94  92.0      92.0     81.0       91.0       33.0   \n",
       "1           L. Messi       93  89.0      90.0     86.0       96.0       26.0   \n",
       "2             Neymar       92  91.0      84.0     78.0       95.0       30.0   \n",
       "3           M. Neuer       92   0.0       0.0      0.0        0.0        0.0   \n",
       "4          L. Suárez       92  82.0      90.0     79.0       87.0       42.0   \n",
       "\n",
       "   physic  \n",
       "0    80.0  \n",
       "1    61.0  \n",
       "2    56.0  \n",
       "3     0.0  \n",
       "4    79.0  "
      ]
     },
     "execution_count": 61,
     "metadata": {},
     "output_type": "execute_result"
    }
   ],
   "source": [
    "# Leer en los datos \n",
    "data = pd.read_csv('players_17.csv')\n",
    "\n",
    "# Seleccionar el subconjunto de datos\n",
    "dataset = data[[\"short_name\", \"overall\", \"pace\", \"shooting\", \"passing\", \"dribbling\", \"defending\", \"physic\"]]\n",
    "\n",
    "# Reemplazar los valores nan por 0\n",
    "dataset = dataset.replace(np.nan, 0)\n",
    "dataset.head()"
   ]
  },
  {
   "cell_type": "code",
   "execution_count": 62,
   "metadata": {},
   "outputs": [
    {
     "data": {
      "text/html": [
       "<div>\n",
       "<style scoped>\n",
       "    .dataframe tbody tr th:only-of-type {\n",
       "        vertical-align: middle;\n",
       "    }\n",
       "\n",
       "    .dataframe tbody tr th {\n",
       "        vertical-align: top;\n",
       "    }\n",
       "\n",
       "    .dataframe thead th {\n",
       "        text-align: right;\n",
       "    }\n",
       "</style>\n",
       "<table border=\"1\" class=\"dataframe\">\n",
       "  <thead>\n",
       "    <tr style=\"text-align: right;\">\n",
       "      <th></th>\n",
       "      <th>overall</th>\n",
       "      <th>pace</th>\n",
       "      <th>shooting</th>\n",
       "      <th>passing</th>\n",
       "      <th>dribbling</th>\n",
       "      <th>defending</th>\n",
       "      <th>physic</th>\n",
       "    </tr>\n",
       "  </thead>\n",
       "  <tbody>\n",
       "    <tr>\n",
       "      <th>overall</th>\n",
       "      <td>1.000000</td>\n",
       "      <td>0.154351</td>\n",
       "      <td>0.344575</td>\n",
       "      <td>0.376797</td>\n",
       "      <td>0.320635</td>\n",
       "      <td>0.261255</td>\n",
       "      <td>0.274340</td>\n",
       "    </tr>\n",
       "    <tr>\n",
       "      <th>pace</th>\n",
       "      <td>0.154351</td>\n",
       "      <td>1.000000</td>\n",
       "      <td>0.797763</td>\n",
       "      <td>0.844260</td>\n",
       "      <td>0.912130</td>\n",
       "      <td>0.538601</td>\n",
       "      <td>0.793932</td>\n",
       "    </tr>\n",
       "    <tr>\n",
       "      <th>shooting</th>\n",
       "      <td>0.344575</td>\n",
       "      <td>0.797763</td>\n",
       "      <td>1.000000</td>\n",
       "      <td>0.876042</td>\n",
       "      <td>0.912516</td>\n",
       "      <td>0.342928</td>\n",
       "      <td>0.714540</td>\n",
       "    </tr>\n",
       "    <tr>\n",
       "      <th>passing</th>\n",
       "      <td>0.376797</td>\n",
       "      <td>0.844260</td>\n",
       "      <td>0.876042</td>\n",
       "      <td>1.000000</td>\n",
       "      <td>0.955574</td>\n",
       "      <td>0.642659</td>\n",
       "      <td>0.821911</td>\n",
       "    </tr>\n",
       "    <tr>\n",
       "      <th>dribbling</th>\n",
       "      <td>0.320635</td>\n",
       "      <td>0.912130</td>\n",
       "      <td>0.912516</td>\n",
       "      <td>0.955574</td>\n",
       "      <td>1.000000</td>\n",
       "      <td>0.543288</td>\n",
       "      <td>0.803232</td>\n",
       "    </tr>\n",
       "    <tr>\n",
       "      <th>defending</th>\n",
       "      <td>0.261255</td>\n",
       "      <td>0.538601</td>\n",
       "      <td>0.342928</td>\n",
       "      <td>0.642659</td>\n",
       "      <td>0.543288</td>\n",
       "      <td>1.000000</td>\n",
       "      <td>0.797541</td>\n",
       "    </tr>\n",
       "    <tr>\n",
       "      <th>physic</th>\n",
       "      <td>0.274340</td>\n",
       "      <td>0.793932</td>\n",
       "      <td>0.714540</td>\n",
       "      <td>0.821911</td>\n",
       "      <td>0.803232</td>\n",
       "      <td>0.797541</td>\n",
       "      <td>1.000000</td>\n",
       "    </tr>\n",
       "  </tbody>\n",
       "</table>\n",
       "</div>"
      ],
      "text/plain": [
       "            overall      pace  shooting   passing  dribbling  defending  \\\n",
       "overall    1.000000  0.154351  0.344575  0.376797   0.320635   0.261255   \n",
       "pace       0.154351  1.000000  0.797763  0.844260   0.912130   0.538601   \n",
       "shooting   0.344575  0.797763  1.000000  0.876042   0.912516   0.342928   \n",
       "passing    0.376797  0.844260  0.876042  1.000000   0.955574   0.642659   \n",
       "dribbling  0.320635  0.912130  0.912516  0.955574   1.000000   0.543288   \n",
       "defending  0.261255  0.538601  0.342928  0.642659   0.543288   1.000000   \n",
       "physic     0.274340  0.793932  0.714540  0.821911   0.803232   0.797541   \n",
       "\n",
       "             physic  \n",
       "overall    0.274340  \n",
       "pace       0.793932  \n",
       "shooting   0.714540  \n",
       "passing    0.821911  \n",
       "dribbling  0.803232  \n",
       "defending  0.797541  \n",
       "physic     1.000000  "
      ]
     },
     "execution_count": 62,
     "metadata": {},
     "output_type": "execute_result"
    }
   ],
   "source": [
    "# Visualizamos la correlacion de los datos\n",
    "dataset.corr()"
   ]
  },
  {
   "cell_type": "code",
   "execution_count": 63,
   "metadata": {},
   "outputs": [],
   "source": [
    "# definir variables de predicción y respuesta\n",
    "x = dataset[[\"pace\", \"shooting\", \"passing\", \"dribbling\", \"defending\", \"physic\"]]\n",
    "y = dataset[\"overall\"]"
   ]
  },
  {
   "cell_type": "code",
   "execution_count": 64,
   "metadata": {},
   "outputs": [],
   "source": [
    "# entrenar el modelo\n",
    "x_train, x_test, y_train, y_test = train_test_split(x, y, test_size=0.3,random_state=42) # 70% entrenamiento y 30% prueba"
   ]
  },
  {
   "cell_type": "code",
   "execution_count": 65,
   "metadata": {},
   "outputs": [],
   "source": [
    "# Iniciar el modelo\n",
    "gbm = GradientBoostingClassifier(random_state=42)"
   ]
  },
  {
   "cell_type": "code",
   "execution_count": 66,
   "metadata": {},
   "outputs": [
    {
     "data": {
      "text/plain": [
       "GradientBoostingClassifier(random_state=42)"
      ]
     },
     "execution_count": 66,
     "metadata": {},
     "output_type": "execute_result"
    }
   ],
   "source": [
    "# Entrenar el modelo\n",
    "gbm.fit(x_train, y_train)"
   ]
  },
  {
   "cell_type": "code",
   "execution_count": 67,
   "metadata": {},
   "outputs": [],
   "source": [
    "# Generar una prediccion\n",
    "y_pred = gbm.predict(x_test)"
   ]
  },
  {
   "cell_type": "code",
   "execution_count": 68,
   "metadata": {},
   "outputs": [
    {
     "name": "stdout",
     "output_type": "stream",
     "text": [
      "Valor R^2: 0.804\n"
     ]
    }
   ],
   "source": [
    "# r2_score\n",
    "r = r2_score(y_test, y_pred)\n",
    "print(\"Valor R^2: %.3f\"%r)"
   ]
  },
  {
   "cell_type": "code",
   "execution_count": 69,
   "metadata": {},
   "outputs": [
    {
     "name": "stdout",
     "output_type": "stream",
     "text": [
      "Valor RME: 9.973\n"
     ]
    }
   ],
   "source": [
    "# mean squared error\n",
    "m = mean_squared_error(y_test, y_pred)\n",
    "print(\"Valor RME: %.3f\"%m)"
   ]
  },
  {
   "cell_type": "code",
   "execution_count": 70,
   "metadata": {},
   "outputs": [
    {
     "name": "stdout",
     "output_type": "stream",
     "text": [
      "Valor P_value: 0.790\n"
     ]
    }
   ],
   "source": [
    "# p_value\n",
    "r, p = stats.ttest_ind(y_test, y_pred)\n",
    "print(\"Valor P_value: %.3f\"%p)"
   ]
  },
  {
   "cell_type": "code",
   "execution_count": 71,
   "metadata": {},
   "outputs": [
    {
     "name": "stdout",
     "output_type": "stream",
     "text": [
      "Factor de Pearson: 0.90\n"
     ]
    }
   ],
   "source": [
    "# Pearson\n",
    "r, p = stats.pearsonr(y_test, y_pred)\n",
    "print(\"Factor de Pearson: %.2f\"%r)"
   ]
  },
  {
   "cell_type": "code",
   "execution_count": 72,
   "metadata": {},
   "outputs": [
    {
     "name": "stdout",
     "output_type": "stream",
     "text": [
      "Precision del modelo:  0.22085048010973937\n"
     ]
    }
   ],
   "source": [
    "# Presicion del modelo\n",
    "print(\"Precision del modelo: \", gbm.score(x_test, y_test))"
   ]
  },
  {
   "cell_type": "markdown",
   "metadata": {},
   "source": [
    "### Modelo de Regresión de Ada Boost Classifier"
   ]
  },
  {
   "cell_type": "markdown",
   "metadata": {},
   "source": [
    "##### Paso 1: importar los paquetes necesarios\n",
    "##### Primero, importaremos los paquetes necesarios para realizar la regresión de Ada en Python:"
   ]
  },
  {
   "cell_type": "code",
   "execution_count": 73,
   "metadata": {},
   "outputs": [],
   "source": [
    "import pandas as pd\n",
    "import numpy as np\n",
    "from sklearn.ensemble import AdaBoostClassifier\n",
    "from sklearn.model_selection import train_test_split\n",
    "from sklearn import metrics\n",
    "from sklearn.metrics import r2_score, mean_squared_error\n",
    "from scipy import stats\n",
    "from scipy.stats import pearsonr\n",
    "import warnings\n",
    "warnings.filterwarnings('ignore')"
   ]
  },
  {
   "cell_type": "code",
   "execution_count": 74,
   "metadata": {},
   "outputs": [
    {
     "data": {
      "text/html": [
       "<div>\n",
       "<style scoped>\n",
       "    .dataframe tbody tr th:only-of-type {\n",
       "        vertical-align: middle;\n",
       "    }\n",
       "\n",
       "    .dataframe tbody tr th {\n",
       "        vertical-align: top;\n",
       "    }\n",
       "\n",
       "    .dataframe thead th {\n",
       "        text-align: right;\n",
       "    }\n",
       "</style>\n",
       "<table border=\"1\" class=\"dataframe\">\n",
       "  <thead>\n",
       "    <tr style=\"text-align: right;\">\n",
       "      <th></th>\n",
       "      <th>short_name</th>\n",
       "      <th>overall</th>\n",
       "      <th>pace</th>\n",
       "      <th>shooting</th>\n",
       "      <th>passing</th>\n",
       "      <th>dribbling</th>\n",
       "      <th>defending</th>\n",
       "      <th>physic</th>\n",
       "    </tr>\n",
       "  </thead>\n",
       "  <tbody>\n",
       "    <tr>\n",
       "      <th>0</th>\n",
       "      <td>Cristiano Ronaldo</td>\n",
       "      <td>94</td>\n",
       "      <td>92.0</td>\n",
       "      <td>92.0</td>\n",
       "      <td>81.0</td>\n",
       "      <td>91.0</td>\n",
       "      <td>33.0</td>\n",
       "      <td>80.0</td>\n",
       "    </tr>\n",
       "    <tr>\n",
       "      <th>1</th>\n",
       "      <td>L. Messi</td>\n",
       "      <td>93</td>\n",
       "      <td>89.0</td>\n",
       "      <td>90.0</td>\n",
       "      <td>86.0</td>\n",
       "      <td>96.0</td>\n",
       "      <td>26.0</td>\n",
       "      <td>61.0</td>\n",
       "    </tr>\n",
       "    <tr>\n",
       "      <th>2</th>\n",
       "      <td>Neymar</td>\n",
       "      <td>92</td>\n",
       "      <td>91.0</td>\n",
       "      <td>84.0</td>\n",
       "      <td>78.0</td>\n",
       "      <td>95.0</td>\n",
       "      <td>30.0</td>\n",
       "      <td>56.0</td>\n",
       "    </tr>\n",
       "    <tr>\n",
       "      <th>3</th>\n",
       "      <td>M. Neuer</td>\n",
       "      <td>92</td>\n",
       "      <td>0.0</td>\n",
       "      <td>0.0</td>\n",
       "      <td>0.0</td>\n",
       "      <td>0.0</td>\n",
       "      <td>0.0</td>\n",
       "      <td>0.0</td>\n",
       "    </tr>\n",
       "    <tr>\n",
       "      <th>4</th>\n",
       "      <td>L. Suárez</td>\n",
       "      <td>92</td>\n",
       "      <td>82.0</td>\n",
       "      <td>90.0</td>\n",
       "      <td>79.0</td>\n",
       "      <td>87.0</td>\n",
       "      <td>42.0</td>\n",
       "      <td>79.0</td>\n",
       "    </tr>\n",
       "  </tbody>\n",
       "</table>\n",
       "</div>"
      ],
      "text/plain": [
       "          short_name  overall  pace  shooting  passing  dribbling  defending  \\\n",
       "0  Cristiano Ronaldo       94  92.0      92.0     81.0       91.0       33.0   \n",
       "1           L. Messi       93  89.0      90.0     86.0       96.0       26.0   \n",
       "2             Neymar       92  91.0      84.0     78.0       95.0       30.0   \n",
       "3           M. Neuer       92   0.0       0.0      0.0        0.0        0.0   \n",
       "4          L. Suárez       92  82.0      90.0     79.0       87.0       42.0   \n",
       "\n",
       "   physic  \n",
       "0    80.0  \n",
       "1    61.0  \n",
       "2    56.0  \n",
       "3     0.0  \n",
       "4    79.0  "
      ]
     },
     "execution_count": 74,
     "metadata": {},
     "output_type": "execute_result"
    }
   ],
   "source": [
    "# Leer en los datos \n",
    "data = pd.read_csv('players_17.csv')\n",
    "\n",
    "# Seleccionar el subconjunto de datos\n",
    "dataset = data[[\"short_name\", \"overall\", \"pace\", \"shooting\", \"passing\", \"dribbling\", \"defending\", \"physic\"]]\n",
    "\n",
    "# Reemplazar los valores nan por 0\n",
    "dataset = dataset.replace(np.nan, 0)\n",
    "dataset.head()"
   ]
  },
  {
   "cell_type": "code",
   "execution_count": 75,
   "metadata": {},
   "outputs": [
    {
     "data": {
      "text/html": [
       "<div>\n",
       "<style scoped>\n",
       "    .dataframe tbody tr th:only-of-type {\n",
       "        vertical-align: middle;\n",
       "    }\n",
       "\n",
       "    .dataframe tbody tr th {\n",
       "        vertical-align: top;\n",
       "    }\n",
       "\n",
       "    .dataframe thead th {\n",
       "        text-align: right;\n",
       "    }\n",
       "</style>\n",
       "<table border=\"1\" class=\"dataframe\">\n",
       "  <thead>\n",
       "    <tr style=\"text-align: right;\">\n",
       "      <th></th>\n",
       "      <th>overall</th>\n",
       "      <th>pace</th>\n",
       "      <th>shooting</th>\n",
       "      <th>passing</th>\n",
       "      <th>dribbling</th>\n",
       "      <th>defending</th>\n",
       "      <th>physic</th>\n",
       "    </tr>\n",
       "  </thead>\n",
       "  <tbody>\n",
       "    <tr>\n",
       "      <th>overall</th>\n",
       "      <td>1.000000</td>\n",
       "      <td>0.154351</td>\n",
       "      <td>0.344575</td>\n",
       "      <td>0.376797</td>\n",
       "      <td>0.320635</td>\n",
       "      <td>0.261255</td>\n",
       "      <td>0.274340</td>\n",
       "    </tr>\n",
       "    <tr>\n",
       "      <th>pace</th>\n",
       "      <td>0.154351</td>\n",
       "      <td>1.000000</td>\n",
       "      <td>0.797763</td>\n",
       "      <td>0.844260</td>\n",
       "      <td>0.912130</td>\n",
       "      <td>0.538601</td>\n",
       "      <td>0.793932</td>\n",
       "    </tr>\n",
       "    <tr>\n",
       "      <th>shooting</th>\n",
       "      <td>0.344575</td>\n",
       "      <td>0.797763</td>\n",
       "      <td>1.000000</td>\n",
       "      <td>0.876042</td>\n",
       "      <td>0.912516</td>\n",
       "      <td>0.342928</td>\n",
       "      <td>0.714540</td>\n",
       "    </tr>\n",
       "    <tr>\n",
       "      <th>passing</th>\n",
       "      <td>0.376797</td>\n",
       "      <td>0.844260</td>\n",
       "      <td>0.876042</td>\n",
       "      <td>1.000000</td>\n",
       "      <td>0.955574</td>\n",
       "      <td>0.642659</td>\n",
       "      <td>0.821911</td>\n",
       "    </tr>\n",
       "    <tr>\n",
       "      <th>dribbling</th>\n",
       "      <td>0.320635</td>\n",
       "      <td>0.912130</td>\n",
       "      <td>0.912516</td>\n",
       "      <td>0.955574</td>\n",
       "      <td>1.000000</td>\n",
       "      <td>0.543288</td>\n",
       "      <td>0.803232</td>\n",
       "    </tr>\n",
       "    <tr>\n",
       "      <th>defending</th>\n",
       "      <td>0.261255</td>\n",
       "      <td>0.538601</td>\n",
       "      <td>0.342928</td>\n",
       "      <td>0.642659</td>\n",
       "      <td>0.543288</td>\n",
       "      <td>1.000000</td>\n",
       "      <td>0.797541</td>\n",
       "    </tr>\n",
       "    <tr>\n",
       "      <th>physic</th>\n",
       "      <td>0.274340</td>\n",
       "      <td>0.793932</td>\n",
       "      <td>0.714540</td>\n",
       "      <td>0.821911</td>\n",
       "      <td>0.803232</td>\n",
       "      <td>0.797541</td>\n",
       "      <td>1.000000</td>\n",
       "    </tr>\n",
       "  </tbody>\n",
       "</table>\n",
       "</div>"
      ],
      "text/plain": [
       "            overall      pace  shooting   passing  dribbling  defending  \\\n",
       "overall    1.000000  0.154351  0.344575  0.376797   0.320635   0.261255   \n",
       "pace       0.154351  1.000000  0.797763  0.844260   0.912130   0.538601   \n",
       "shooting   0.344575  0.797763  1.000000  0.876042   0.912516   0.342928   \n",
       "passing    0.376797  0.844260  0.876042  1.000000   0.955574   0.642659   \n",
       "dribbling  0.320635  0.912130  0.912516  0.955574   1.000000   0.543288   \n",
       "defending  0.261255  0.538601  0.342928  0.642659   0.543288   1.000000   \n",
       "physic     0.274340  0.793932  0.714540  0.821911   0.803232   0.797541   \n",
       "\n",
       "             physic  \n",
       "overall    0.274340  \n",
       "pace       0.793932  \n",
       "shooting   0.714540  \n",
       "passing    0.821911  \n",
       "dribbling  0.803232  \n",
       "defending  0.797541  \n",
       "physic     1.000000  "
      ]
     },
     "execution_count": 75,
     "metadata": {},
     "output_type": "execute_result"
    }
   ],
   "source": [
    "# Visualizamos la correlacion de los datos\n",
    "dataset.corr()"
   ]
  },
  {
   "cell_type": "code",
   "execution_count": 76,
   "metadata": {},
   "outputs": [],
   "source": [
    "# definir variables de predicción y respuesta\n",
    "x = dataset[[\"pace\", \"shooting\", \"passing\", \"dribbling\", \"defending\", \"physic\"]]\n",
    "y = dataset[\"overall\"]"
   ]
  },
  {
   "cell_type": "code",
   "execution_count": 77,
   "metadata": {},
   "outputs": [],
   "source": [
    "# entrenar el modelo\n",
    "x_train, x_test, y_train, y_test = train_test_split(x, y, test_size=0.3,random_state=42) # 70% entrenamiento y 30% prueba"
   ]
  },
  {
   "cell_type": "code",
   "execution_count": 78,
   "metadata": {},
   "outputs": [],
   "source": [
    "# Crear un objeto clasificador del modelo\n",
    "Ada = AdaBoostClassifier(n_estimators=100,learning_rate=1)\n",
    "# n_estimators = Numero de valores a entrenar \n",
    "# learning_rate = Contribuye a los datos que se seleccionaran, por defecto se selecciona el valor 1"
   ]
  },
  {
   "cell_type": "code",
   "execution_count": 79,
   "metadata": {},
   "outputs": [],
   "source": [
    "# Entrenar el clasificador Adaboost\n",
    "model = Ada.fit(x_train, y_train)\n",
    "\n",
    "# Predecir la respuesta del dataset de prueba\n",
    "y_pred = model.predict(x_test)"
   ]
  },
  {
   "cell_type": "code",
   "execution_count": 80,
   "metadata": {},
   "outputs": [
    {
     "name": "stdout",
     "output_type": "stream",
     "text": [
      "Valor R^2: 0.497\n"
     ]
    }
   ],
   "source": [
    "# r2_score\n",
    "y_pred = Ada.predict(x_test)\n",
    "r = r2_score(y_test, y_pred)\n",
    "print(\"Valor R^2: %.3f\"%r)"
   ]
  },
  {
   "cell_type": "code",
   "execution_count": 81,
   "metadata": {},
   "outputs": [
    {
     "name": "stdout",
     "output_type": "stream",
     "text": [
      "Valor RME: 25.548\n"
     ]
    }
   ],
   "source": [
    "# mean squared error\n",
    "m = mean_squared_error(y_test, y_pred)\n",
    "print(\"Valor RME: %.3f\"%m)"
   ]
  },
  {
   "cell_type": "code",
   "execution_count": 82,
   "metadata": {},
   "outputs": [
    {
     "name": "stdout",
     "output_type": "stream",
     "text": [
      "Valor P_value: 0.000\n"
     ]
    }
   ],
   "source": [
    "# p_value\n",
    "r, p = stats.ttest_ind(y_test, y_pred)\n",
    "print(\"Valor P_value: %.3f\"%p)"
   ]
  },
  {
   "cell_type": "code",
   "execution_count": 83,
   "metadata": {},
   "outputs": [
    {
     "name": "stdout",
     "output_type": "stream",
     "text": [
      "Factor de Pearson: 0.71\n"
     ]
    }
   ],
   "source": [
    "# Pearson\n",
    "r, p = stats.pearsonr(y_test, y_pred)\n",
    "print(\"Factor de Pearson: %.2f\"%r)"
   ]
  },
  {
   "cell_type": "code",
   "execution_count": 84,
   "metadata": {},
   "outputs": [
    {
     "name": "stdout",
     "output_type": "stream",
     "text": [
      "Precision:  0.08543993729178914\n"
     ]
    }
   ],
   "source": [
    "# Presicion del modelo\n",
    "print(\"Precision: \", Ada.score(x_test, y_test))"
   ]
  },
  {
   "cell_type": "markdown",
   "metadata": {},
   "source": [
    "### Modelo de Regresión de Gaussian Naive Bayes"
   ]
  },
  {
   "cell_type": "markdown",
   "metadata": {},
   "source": [
    "##### Paso 1: importar los paquetes necesarios\n",
    "##### Primero, importaremos los paquetes necesarios para realizar la regresión de Gaussian en Python:"
   ]
  },
  {
   "cell_type": "code",
   "execution_count": 85,
   "metadata": {},
   "outputs": [],
   "source": [
    "import numpy as np\n",
    "import pandas as pd\n",
    "from scipy import stats\n",
    "from scipy.stats import pearsonr\n",
    "from sklearn.metrics import r2_score, mean_squared_error\n",
    "import matplotlib.pyplot as plt\n",
    "from sklearn.model_selection import train_test_split\n",
    "from sklearn.naive_bayes import GaussianNB"
   ]
  },
  {
   "cell_type": "code",
   "execution_count": 86,
   "metadata": {},
   "outputs": [
    {
     "data": {
      "text/html": [
       "<div>\n",
       "<style scoped>\n",
       "    .dataframe tbody tr th:only-of-type {\n",
       "        vertical-align: middle;\n",
       "    }\n",
       "\n",
       "    .dataframe tbody tr th {\n",
       "        vertical-align: top;\n",
       "    }\n",
       "\n",
       "    .dataframe thead th {\n",
       "        text-align: right;\n",
       "    }\n",
       "</style>\n",
       "<table border=\"1\" class=\"dataframe\">\n",
       "  <thead>\n",
       "    <tr style=\"text-align: right;\">\n",
       "      <th></th>\n",
       "      <th>short_name</th>\n",
       "      <th>overall</th>\n",
       "      <th>pace</th>\n",
       "      <th>shooting</th>\n",
       "      <th>passing</th>\n",
       "      <th>dribbling</th>\n",
       "      <th>defending</th>\n",
       "      <th>physic</th>\n",
       "    </tr>\n",
       "  </thead>\n",
       "  <tbody>\n",
       "    <tr>\n",
       "      <th>0</th>\n",
       "      <td>Cristiano Ronaldo</td>\n",
       "      <td>94</td>\n",
       "      <td>92.0</td>\n",
       "      <td>92.0</td>\n",
       "      <td>81.0</td>\n",
       "      <td>91.0</td>\n",
       "      <td>33.0</td>\n",
       "      <td>80.0</td>\n",
       "    </tr>\n",
       "    <tr>\n",
       "      <th>1</th>\n",
       "      <td>L. Messi</td>\n",
       "      <td>93</td>\n",
       "      <td>89.0</td>\n",
       "      <td>90.0</td>\n",
       "      <td>86.0</td>\n",
       "      <td>96.0</td>\n",
       "      <td>26.0</td>\n",
       "      <td>61.0</td>\n",
       "    </tr>\n",
       "    <tr>\n",
       "      <th>2</th>\n",
       "      <td>Neymar</td>\n",
       "      <td>92</td>\n",
       "      <td>91.0</td>\n",
       "      <td>84.0</td>\n",
       "      <td>78.0</td>\n",
       "      <td>95.0</td>\n",
       "      <td>30.0</td>\n",
       "      <td>56.0</td>\n",
       "    </tr>\n",
       "    <tr>\n",
       "      <th>3</th>\n",
       "      <td>M. Neuer</td>\n",
       "      <td>92</td>\n",
       "      <td>0.0</td>\n",
       "      <td>0.0</td>\n",
       "      <td>0.0</td>\n",
       "      <td>0.0</td>\n",
       "      <td>0.0</td>\n",
       "      <td>0.0</td>\n",
       "    </tr>\n",
       "    <tr>\n",
       "      <th>4</th>\n",
       "      <td>L. Suárez</td>\n",
       "      <td>92</td>\n",
       "      <td>82.0</td>\n",
       "      <td>90.0</td>\n",
       "      <td>79.0</td>\n",
       "      <td>87.0</td>\n",
       "      <td>42.0</td>\n",
       "      <td>79.0</td>\n",
       "    </tr>\n",
       "  </tbody>\n",
       "</table>\n",
       "</div>"
      ],
      "text/plain": [
       "          short_name  overall  pace  shooting  passing  dribbling  defending  \\\n",
       "0  Cristiano Ronaldo       94  92.0      92.0     81.0       91.0       33.0   \n",
       "1           L. Messi       93  89.0      90.0     86.0       96.0       26.0   \n",
       "2             Neymar       92  91.0      84.0     78.0       95.0       30.0   \n",
       "3           M. Neuer       92   0.0       0.0      0.0        0.0        0.0   \n",
       "4          L. Suárez       92  82.0      90.0     79.0       87.0       42.0   \n",
       "\n",
       "   physic  \n",
       "0    80.0  \n",
       "1    61.0  \n",
       "2    56.0  \n",
       "3     0.0  \n",
       "4    79.0  "
      ]
     },
     "execution_count": 86,
     "metadata": {},
     "output_type": "execute_result"
    }
   ],
   "source": [
    "# Leer en los datos \n",
    "data = pd.read_csv('players_17.csv')\n",
    "\n",
    "# Seleccionar el subconjunto de datos\n",
    "dataset = data[[\"short_name\", \"overall\", \"pace\", \"shooting\", \"passing\", \"dribbling\", \"defending\", \"physic\"]]\n",
    "\n",
    "# Reemplazar los valores nan por 0\n",
    "dataset = dataset.replace(np.nan, 0)\n",
    "dataset.head()"
   ]
  },
  {
   "cell_type": "code",
   "execution_count": 87,
   "metadata": {},
   "outputs": [
    {
     "data": {
      "text/html": [
       "<div>\n",
       "<style scoped>\n",
       "    .dataframe tbody tr th:only-of-type {\n",
       "        vertical-align: middle;\n",
       "    }\n",
       "\n",
       "    .dataframe tbody tr th {\n",
       "        vertical-align: top;\n",
       "    }\n",
       "\n",
       "    .dataframe thead th {\n",
       "        text-align: right;\n",
       "    }\n",
       "</style>\n",
       "<table border=\"1\" class=\"dataframe\">\n",
       "  <thead>\n",
       "    <tr style=\"text-align: right;\">\n",
       "      <th></th>\n",
       "      <th>overall</th>\n",
       "      <th>pace</th>\n",
       "      <th>shooting</th>\n",
       "      <th>passing</th>\n",
       "      <th>dribbling</th>\n",
       "      <th>defending</th>\n",
       "      <th>physic</th>\n",
       "    </tr>\n",
       "  </thead>\n",
       "  <tbody>\n",
       "    <tr>\n",
       "      <th>overall</th>\n",
       "      <td>1.000000</td>\n",
       "      <td>0.154351</td>\n",
       "      <td>0.344575</td>\n",
       "      <td>0.376797</td>\n",
       "      <td>0.320635</td>\n",
       "      <td>0.261255</td>\n",
       "      <td>0.274340</td>\n",
       "    </tr>\n",
       "    <tr>\n",
       "      <th>pace</th>\n",
       "      <td>0.154351</td>\n",
       "      <td>1.000000</td>\n",
       "      <td>0.797763</td>\n",
       "      <td>0.844260</td>\n",
       "      <td>0.912130</td>\n",
       "      <td>0.538601</td>\n",
       "      <td>0.793932</td>\n",
       "    </tr>\n",
       "    <tr>\n",
       "      <th>shooting</th>\n",
       "      <td>0.344575</td>\n",
       "      <td>0.797763</td>\n",
       "      <td>1.000000</td>\n",
       "      <td>0.876042</td>\n",
       "      <td>0.912516</td>\n",
       "      <td>0.342928</td>\n",
       "      <td>0.714540</td>\n",
       "    </tr>\n",
       "    <tr>\n",
       "      <th>passing</th>\n",
       "      <td>0.376797</td>\n",
       "      <td>0.844260</td>\n",
       "      <td>0.876042</td>\n",
       "      <td>1.000000</td>\n",
       "      <td>0.955574</td>\n",
       "      <td>0.642659</td>\n",
       "      <td>0.821911</td>\n",
       "    </tr>\n",
       "    <tr>\n",
       "      <th>dribbling</th>\n",
       "      <td>0.320635</td>\n",
       "      <td>0.912130</td>\n",
       "      <td>0.912516</td>\n",
       "      <td>0.955574</td>\n",
       "      <td>1.000000</td>\n",
       "      <td>0.543288</td>\n",
       "      <td>0.803232</td>\n",
       "    </tr>\n",
       "    <tr>\n",
       "      <th>defending</th>\n",
       "      <td>0.261255</td>\n",
       "      <td>0.538601</td>\n",
       "      <td>0.342928</td>\n",
       "      <td>0.642659</td>\n",
       "      <td>0.543288</td>\n",
       "      <td>1.000000</td>\n",
       "      <td>0.797541</td>\n",
       "    </tr>\n",
       "    <tr>\n",
       "      <th>physic</th>\n",
       "      <td>0.274340</td>\n",
       "      <td>0.793932</td>\n",
       "      <td>0.714540</td>\n",
       "      <td>0.821911</td>\n",
       "      <td>0.803232</td>\n",
       "      <td>0.797541</td>\n",
       "      <td>1.000000</td>\n",
       "    </tr>\n",
       "  </tbody>\n",
       "</table>\n",
       "</div>"
      ],
      "text/plain": [
       "            overall      pace  shooting   passing  dribbling  defending  \\\n",
       "overall    1.000000  0.154351  0.344575  0.376797   0.320635   0.261255   \n",
       "pace       0.154351  1.000000  0.797763  0.844260   0.912130   0.538601   \n",
       "shooting   0.344575  0.797763  1.000000  0.876042   0.912516   0.342928   \n",
       "passing    0.376797  0.844260  0.876042  1.000000   0.955574   0.642659   \n",
       "dribbling  0.320635  0.912130  0.912516  0.955574   1.000000   0.543288   \n",
       "defending  0.261255  0.538601  0.342928  0.642659   0.543288   1.000000   \n",
       "physic     0.274340  0.793932  0.714540  0.821911   0.803232   0.797541   \n",
       "\n",
       "             physic  \n",
       "overall    0.274340  \n",
       "pace       0.793932  \n",
       "shooting   0.714540  \n",
       "passing    0.821911  \n",
       "dribbling  0.803232  \n",
       "defending  0.797541  \n",
       "physic     1.000000  "
      ]
     },
     "execution_count": 87,
     "metadata": {},
     "output_type": "execute_result"
    }
   ],
   "source": [
    "# Visualizamos la correlacion de los datos\n",
    "dataset.corr()"
   ]
  },
  {
   "cell_type": "code",
   "execution_count": 88,
   "metadata": {},
   "outputs": [],
   "source": [
    "# definir variables de predicción y respuesta\n",
    "x = dataset[[\"pace\", \"shooting\", \"passing\", \"dribbling\", \"defending\", \"physic\"]]\n",
    "y = dataset[\"overall\"]"
   ]
  },
  {
   "cell_type": "code",
   "execution_count": 89,
   "metadata": {},
   "outputs": [],
   "source": [
    "# entrenar el modelo\n",
    "x_train, x_test, y_train, y_test = train_test_split(x, y, test_size=0.3,random_state=42) # 70% entrenamiento y 30% prueba"
   ]
  },
  {
   "cell_type": "code",
   "execution_count": 90,
   "metadata": {},
   "outputs": [
    {
     "data": {
      "text/plain": [
       "GaussianNB()"
      ]
     },
     "execution_count": 90,
     "metadata": {},
     "output_type": "execute_result"
    }
   ],
   "source": [
    "# Implementar el modelo de Gaussian\n",
    "nb = GaussianNB()\n",
    "# Entrenar el modelo con los datos x_train y y_train\n",
    "nb.fit(x_train, y_train)"
   ]
  },
  {
   "cell_type": "code",
   "execution_count": 91,
   "metadata": {},
   "outputs": [
    {
     "name": "stdout",
     "output_type": "stream",
     "text": [
      "Valor R^2: -0.274\n"
     ]
    }
   ],
   "source": [
    "# r2_score\n",
    "y_pred = nb.predict(x_test)\n",
    "r = r2_score(y_test, y_pred)\n",
    "print(\"Valor R^2: %.3f\"%r)"
   ]
  },
  {
   "cell_type": "code",
   "execution_count": 92,
   "metadata": {},
   "outputs": [
    {
     "name": "stdout",
     "output_type": "stream",
     "text": [
      "Valor RME: 64.686\n"
     ]
    }
   ],
   "source": [
    "# mean squared error\n",
    "m = mean_squared_error(y_test, y_pred)\n",
    "print(\"Valor RME: %.3f\"%m)"
   ]
  },
  {
   "cell_type": "code",
   "execution_count": 93,
   "metadata": {},
   "outputs": [
    {
     "name": "stdout",
     "output_type": "stream",
     "text": [
      "Valor P_value: 0.010\n"
     ]
    }
   ],
   "source": [
    "# p_value\n",
    "r, p = stats.ttest_ind(y_test, y_pred)\n",
    "print(\"Valor P_value: %.3f\"%p)"
   ]
  },
  {
   "cell_type": "code",
   "execution_count": 94,
   "metadata": {},
   "outputs": [
    {
     "name": "stdout",
     "output_type": "stream",
     "text": [
      "Factor de Pearson: 0.332\n"
     ]
    }
   ],
   "source": [
    "# Pearson\n",
    "r, p = stats.pearsonr(y_test, y_pred)\n",
    "print(\"Factor de Pearson: %.3f\"%r)"
   ]
  },
  {
   "cell_type": "code",
   "execution_count": 95,
   "metadata": {},
   "outputs": [
    {
     "name": "stdout",
     "output_type": "stream",
     "text": [
      "Gaussian precision:  0.06231628453850676\n"
     ]
    }
   ],
   "source": [
    "# Precision del modelo\n",
    "print(\"Gaussian precision: \",nb.score(x_test, y_test))"
   ]
  },
  {
   "cell_type": "code",
   "execution_count": null,
   "metadata": {},
   "outputs": [],
   "source": []
  }
 ],
 "metadata": {
  "interpreter": {
   "hash": "1c7f834a8519830c4fba855057924470a7054789cccd5efc87bcc23af612ae66"
  },
  "kernelspec": {
   "display_name": "Python 3 (ipykernel)",
   "language": "python",
   "name": "python3"
  },
  "language_info": {
   "codemirror_mode": {
    "name": "ipython",
    "version": 3
   },
   "file_extension": ".py",
   "mimetype": "text/x-python",
   "name": "python",
   "nbconvert_exporter": "python",
   "pygments_lexer": "ipython3",
   "version": "3.9.7"
  }
 },
 "nbformat": 4,
 "nbformat_minor": 2
}
